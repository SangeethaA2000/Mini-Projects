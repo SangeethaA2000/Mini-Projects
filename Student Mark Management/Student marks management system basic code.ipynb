{
 "cells": [
  {
   "cell_type": "code",
   "execution_count": 1,
   "id": "3933739d-5f2a-45d7-aa32-7173fef2dcbd",
   "metadata": {},
   "outputs": [
    {
     "ename": "OperationalError",
     "evalue": "AUTOINCREMENT is only allowed on an INTEGER PRIMARY KEY",
     "output_type": "error",
     "traceback": [
      "\u001b[0;31m---------------------------------------------------------------------------\u001b[0m",
      "\u001b[0;31mOperationalError\u001b[0m                          Traceback (most recent call last)",
      "Cell \u001b[0;32mIn[1], line 6\u001b[0m\n\u001b[1;32m      3\u001b[0m conn\u001b[38;5;241m=\u001b[39msqlite3\u001b[38;5;241m.\u001b[39mconnect(\u001b[38;5;124m\"\u001b[39m\u001b[38;5;124mlibrary.db\u001b[39m\u001b[38;5;124m\"\u001b[39m)\n\u001b[1;32m      4\u001b[0m cursor\u001b[38;5;241m=\u001b[39mconn\u001b[38;5;241m.\u001b[39mcursor()\n\u001b[0;32m----> 6\u001b[0m \u001b[43mcursor\u001b[49m\u001b[38;5;241;43m.\u001b[39;49m\u001b[43mexecute\u001b[49m\u001b[43m(\u001b[49m\u001b[38;5;124;43m\"\"\"\u001b[39;49m\u001b[38;5;124;43mcreate table if not exists\u001b[39;49m\n\u001b[1;32m      7\u001b[0m \u001b[38;5;124;43mstudent_report(id int primary key autoincrement,\u001b[39;49m\n\u001b[1;32m      8\u001b[0m \u001b[38;5;124;43mname text not null,\u001b[39;49m\n\u001b[1;32m      9\u001b[0m \u001b[38;5;124;43msubject1 int,\u001b[39;49m\n\u001b[1;32m     10\u001b[0m \u001b[38;5;124;43msubject2 int,\u001b[39;49m\n\u001b[1;32m     11\u001b[0m \u001b[38;5;124;43msubject3 int)\u001b[39;49m\u001b[38;5;124;43m\"\"\"\u001b[39;49m\u001b[43m)\u001b[49m\n\u001b[1;32m     13\u001b[0m conn\u001b[38;5;241m.\u001b[39mcommit()\n\u001b[1;32m     15\u001b[0m \u001b[38;5;28mprint\u001b[39m(\u001b[38;5;124m\"\u001b[39m\u001b[38;5;124mtable created successfully.\u001b[39m\u001b[38;5;124m\"\u001b[39m)\n",
      "\u001b[0;31mOperationalError\u001b[0m: AUTOINCREMENT is only allowed on an INTEGER PRIMARY KEY"
     ]
    }
   ],
   "source": [
    "import sqlite3\n",
    "\n",
    "conn=sqlite3.connect(\"library.db\")\n",
    "cursor=conn.cursor()\n",
    "\n",
    "cursor.execute(\"\"\"create table if not exists\n",
    "student_report(id int primary key autoincrement,\n",
    "name text not null,\n",
    "subject1 int,\n",
    "subject2 int,\n",
    "subject3 int)\"\"\")\n",
    "\n",
    "conn.commit()\n",
    "\n",
    "print(\"table created successfully.\")"
   ]
  },
  {
   "cell_type": "code",
   "execution_count": 2,
   "id": "f1d9c166-82b2-4085-a876-dd50455080b9",
   "metadata": {},
   "outputs": [
    {
     "name": "stdout",
     "output_type": "stream",
     "text": [
      "table created successfully.\n"
     ]
    }
   ],
   "source": [
    "import sqlite3\n",
    "\n",
    "conn=sqlite3.connect(\"library.db\")\n",
    "cursor=conn.cursor()\n",
    "\n",
    "cursor.execute(\"\"\"create table if not exists\n",
    "student_report(id integer primary key autoincrement,\n",
    "name text not null,\n",
    "subject1 int,\n",
    "subject2 int,\n",
    "subject3 int)\"\"\")\n",
    "\n",
    "conn.commit()\n",
    "\n",
    "print(\"table created successfully.\")"
   ]
  },
  {
   "cell_type": "code",
   "execution_count": 3,
   "id": "36e03410-002c-4a97-9544-1ea38c9cffca",
   "metadata": {},
   "outputs": [
    {
     "name": "stdin",
     "output_type": "stream",
     "text": [
      "enter the student name: sangeetha\n",
      "enter marks for subject 1: 89\n",
      "enter marks for subject 2: 97\n",
      "enter marks for subject 3: 69\n"
     ]
    }
   ],
   "source": [
    "name=input(\"enter the student name:\")\n",
    "subject1=int(input(\"enter marks for subject 1:\"))\n",
    "subject2=int(input(\"enter marks for subject 2:\"))\n",
    "subject3=int(input(\"enter marks for subject 3:\"))\n",
    "             "
   ]
  },
  {
   "cell_type": "code",
   "execution_count": 4,
   "id": "d4cff613-0ac5-4ed0-86b6-307e11502778",
   "metadata": {},
   "outputs": [
    {
     "name": "stdout",
     "output_type": "stream",
     "text": [
      "student data inserted successfully\n"
     ]
    }
   ],
   "source": [
    "cursor.execute(\"\"\" insert into student_report(name, subject1, subject2, subject3) values (?,?,?,?)\"\"\",\n",
    "               (name, subject1,subject2,subject3))\n",
    "\n",
    "conn.commit()\n",
    "print(\"student data inserted successfully\")"
   ]
  },
  {
   "cell_type": "code",
   "execution_count": null,
   "id": "8bddb7a5-eada-494c-bbf0-dcd716d5e77b",
   "metadata": {},
   "outputs": [],
   "source": [
    "#till above we have taken 1 value"
   ]
  },
  {
   "cell_type": "code",
   "execution_count": 9,
   "id": "cbf76c94-4b1f-4c8f-ad0a-5a85e4b5b3e7",
   "metadata": {},
   "outputs": [
    {
     "name": "stdin",
     "output_type": "stream",
     "text": [
      "enter no. of records to get: 3\n"
     ]
    },
    {
     "name": "stdout",
     "output_type": "stream",
     "text": [
      "\n",
      " enter details of student 1:\n"
     ]
    },
    {
     "name": "stdin",
     "output_type": "stream",
     "text": [
      "enter the name of student: sangeetha\n",
      "enter subject1 mark: 98\n",
      "enter subject2 mark: 67\n",
      "enter subject3 mark: 98\n"
     ]
    },
    {
     "name": "stdout",
     "output_type": "stream",
     "text": [
      "table created successfully\n",
      "data inserted successfully\n",
      "\n",
      " enter details of student 2:\n"
     ]
    },
    {
     "name": "stdin",
     "output_type": "stream",
     "text": [
      "enter the name of student: sindhu\n",
      "enter subject1 mark: 89\n",
      "enter subject2 mark: 68\n",
      "enter subject3 mark: 59\n"
     ]
    },
    {
     "name": "stdout",
     "output_type": "stream",
     "text": [
      "table created successfully\n",
      "data inserted successfully\n",
      "\n",
      " enter details of student 3:\n"
     ]
    },
    {
     "name": "stdin",
     "output_type": "stream",
     "text": [
      "enter the name of student: saraswathi\n",
      "enter subject1 mark: 69\n",
      "enter subject2 mark: 98\n",
      "enter subject3 mark: 68\n"
     ]
    },
    {
     "name": "stdout",
     "output_type": "stream",
     "text": [
      "table created successfully\n",
      "data inserted successfully\n"
     ]
    }
   ],
   "source": [
    "#to get multiple values from user we are using loop\n",
    "\n",
    "import sqlite3\n",
    "\n",
    "conn=sqlite3.connect(\"stu_table.db\")\n",
    "cursor=conn.cursor()\n",
    "\n",
    "n=int(input(\"enter no. of records to get:\"))\n",
    "\n",
    "for i in range(n):\n",
    "    print(f\"\\n enter details of student {i+1}:\")\n",
    "\n",
    "    stu_name=input(\"enter the name of student:\")\n",
    "    sub1=int(input(\"enter subject1 mark:\"))\n",
    "    sub2=int(input(\"enter subject2 mark:\"))\n",
    "    sub3=int(input(\"enter subject3 mark:\"))\n",
    "\n",
    "    cursor.execute(\"\"\"create table if not exists\n",
    "    student_mark(id integer primary key autoincrement,\n",
    "    stu_name text not null,\n",
    "    sub1 int,\n",
    "    sub2 int,\n",
    "    sub3 int) \"\"\")\n",
    "\n",
    "    print(\"table created successfully\")\n",
    "\n",
    "    cursor.execute(\"\"\" insert into student_mark(stu_name, sub1, sub2, sub3) values (?,?,?,?)\"\"\", (stu_name,sub1,sub2,sub3))\n",
    "    print(\"data inserted successfully\")\n",
    "\n",
    "conn.commit()\n",
    "\n"
   ]
  },
  {
   "cell_type": "code",
   "execution_count": 10,
   "id": "7930986f-1615-40a6-b8bf-13e9661ddb44",
   "metadata": {},
   "outputs": [],
   "source": [
    "#to view all records\n",
    "\n",
    "cursor.execute(\"select * from student_mark\") \n",
    "records=cursor.fetchall()"
   ]
  },
  {
   "cell_type": "code",
   "execution_count": 11,
   "id": "5e768036-5d2f-4b98-ad73-c006af9608fc",
   "metadata": {},
   "outputs": [
    {
     "name": "stdout",
     "output_type": "stream",
     "text": [
      "\n",
      " student records:\n",
      "(1, 'sangeetha', 98, 67, 98)\n",
      "(2, 'sindhu', 89, 68, 59)\n",
      "(3, 'saraswathi', 69, 98, 68)\n"
     ]
    }
   ],
   "source": [
    "print(\"\\n student records:\")\n",
    "for row in records:\n",
    "    print(row)"
   ]
  },
  {
   "cell_type": "code",
   "execution_count": 15,
   "id": "9a61a845-8c63-4346-ab6c-a2d6851af5f4",
   "metadata": {},
   "outputs": [
    {
     "name": "stdin",
     "output_type": "stream",
     "text": [
      "enter the name of student to update: saraswathi\n",
      "enter subject1 mark: 89\n",
      "enter subject2 mark: 54\n",
      "enter subject3 mark: 76\n"
     ]
    },
    {
     "name": "stdout",
     "output_type": "stream",
     "text": [
      "saraswathi's marks updated successfully.\n"
     ]
    }
   ],
   "source": [
    "#to update students marks  - u\n",
    "\n",
    "stu_name=input(\"enter the name of student to update:\")\n",
    "u_sub1=int(input(\"enter subject1 mark:\"))\n",
    "u_sub2=int(input(\"enter subject2 mark:\"))\n",
    "u_sub3=int(input(\"enter subject3 mark:\"))\n",
    "\n",
    "cursor.execute(\"\"\" update student_mark set sub1=?, sub2=?, sub3=? where stu_name=? \"\"\" , (u_sub1, u_sub2, u_sub3, stu_name))\n",
    "\n",
    "conn.commit()\n",
    "print(f\"{stu_name}'s marks updated successfully.\")"
   ]
  },
  {
   "cell_type": "code",
   "execution_count": 16,
   "id": "f9eb27ec-155c-4ea0-a4dc-344f13cc24d6",
   "metadata": {},
   "outputs": [],
   "source": [
    "# to add total and average columns\n",
    "\n",
    "cursor.execute( \"alter table student_mark add column total int\")\n",
    "cursor.execute( \"alter table student_mark add column average real\")\n",
    "\n",
    "conn.commit()"
   ]
  },
  {
   "cell_type": "code",
   "execution_count": 17,
   "id": "89ef6c9a-b132-4edd-97d1-0b8cc7c6a18f",
   "metadata": {},
   "outputs": [
    {
     "name": "stdout",
     "output_type": "stream",
     "text": [
      "total and average updated for all students.\n"
     ]
    }
   ],
   "source": [
    "# update total and average for all students\n",
    "\n",
    "cursor.execute(\" select id,sub1, sub2, sub3 from student_mark\")\n",
    "\n",
    "data=cursor.fetchall()\n",
    "\n",
    "for row in data:\n",
    "    sid, s1, s2, s3=row\n",
    "    total=s1+s2+s3\n",
    "    avg=total/3\n",
    "\n",
    "    cursor.execute(\"\"\"update student_mark set total=?, average=? where id=?\"\"\",(total, avg, sid))\n",
    "\n",
    "conn.commit()\n",
    "print(\"total and average updated for all students.\")"
   ]
  },
  {
   "cell_type": "code",
   "execution_count": 18,
   "id": "69c8be3f-3163-4d00-bc03-cc629c7e6b6c",
   "metadata": {},
   "outputs": [
    {
     "name": "stdout",
     "output_type": "stream",
     "text": [
      "\n",
      " student report:\n",
      "ID | Name | Sub1 | Sub2 | Sub3 | Total | Avg \n",
      "(1, 'sangeetha', 98, 67, 98, 263, 87.66666666666667)\n",
      "(2, 'sindhu', 97, 78, 58, 233, 77.66666666666667)\n",
      "(3, 'saraswathi', 89, 54, 76, 219, 73.0)\n"
     ]
    }
   ],
   "source": [
    "#display with total and average\n",
    "\n",
    "cursor.execute(\"select * from student_mark\")\n",
    "records=cursor.fetchall()\n",
    "\n",
    "print(\"\\n student report:\")\n",
    "print(\"ID | Name | Sub1 | Sub2 | Sub3 | Total | Avg \")\n",
    "\n",
    "for row in records:\n",
    "    print(row)"
   ]
  },
  {
   "cell_type": "code",
   "execution_count": null,
   "id": "5c9a3a7e-46f3-41e0-a890-0ff655f15539",
   "metadata": {},
   "outputs": [],
   "source": [
    "\n",
    "#check for final code in next new notebook -- there we used advanced functions as well"
   ]
  },
  {
   "cell_type": "code",
   "execution_count": null,
   "id": "85abf1a8-afe2-4cd8-bbdf-e8bf3cbbe971",
   "metadata": {},
   "outputs": [],
   "source": [
    "\n"
   ]
  }
 ],
 "metadata": {
  "kernelspec": {
   "display_name": "anaconda-2024.02-py310",
   "language": "python",
   "name": "conda-env-anaconda-2024.02-py310-py"
  },
  "language_info": {
   "codemirror_mode": {
    "name": "ipython",
    "version": 3
   },
   "file_extension": ".py",
   "mimetype": "text/x-python",
   "name": "python",
   "nbconvert_exporter": "python",
   "pygments_lexer": "ipython3",
   "version": "3.10.14"
  }
 },
 "nbformat": 4,
 "nbformat_minor": 5
}
