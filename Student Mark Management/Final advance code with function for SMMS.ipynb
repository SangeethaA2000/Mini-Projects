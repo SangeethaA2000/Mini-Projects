{
 "cells": [
  {
   "cell_type": "code",
   "execution_count": 4,
   "id": "58f12d4c-bc37-4fff-88c3-14db6e1b4b9e",
   "metadata": {},
   "outputs": [
    {
     "name": "stdout",
     "output_type": "stream",
     "text": [
      "table created successfully\n"
     ]
    }
   ],
   "source": [
    "import sqlite3\n",
    "\n",
    "conn=sqlite3.connect(\"mark_database.db\")\n",
    "cursor=conn.cursor()\n",
    "\n",
    "#create table if not exist\n",
    "\n",
    "cursor.execute(\"\"\" create table if not exists\n",
    "stud_marks( s_id integer primary key autoincrement, \n",
    "name text not null,\n",
    "sub1 int,\n",
    "sub2 int,\n",
    "sub3 int)\"\"\")\n",
    "\n",
    "conn.commit()\n",
    "print(\"table created successfully\")"
   ]
  },
  {
   "cell_type": "code",
   "execution_count": 13,
   "id": "20fc3eaa-4abb-4ef1-ae84-d7871c8858ec",
   "metadata": {},
   "outputs": [
    {
     "name": "stdout",
     "output_type": "stream",
     "text": [
      "existing table dropped\n"
     ]
    }
   ],
   "source": [
    "#we are getting error..so dropping existing table and creating new\n",
    "\n",
    "cursor.execute(\"drop table if exists stud_marks\")\n",
    "conn.commit()\n",
    "print(\"existing table dropped\")"
   ]
  },
  {
   "cell_type": "code",
   "execution_count": 41,
   "id": "e16e2fc3-90db-4577-ae4d-fb1305280e2e",
   "metadata": {},
   "outputs": [
    {
     "name": "stdout",
     "output_type": "stream",
     "text": [
      "new table created successfully\n"
     ]
    }
   ],
   "source": [
    "#creating new table\n",
    "\n",
    "cursor.execute(\"\"\"create table if not exists\n",
    "stu_tab(id integer primary key autoincrement,\n",
    "stu_name text not null,\n",
    "s_sub1 int,\n",
    "s_sub2 int,\n",
    "s_sub3 int)\"\"\")\n",
    "\n",
    "conn.commit()\n",
    "print(\"new table created successfully\")"
   ]
  },
  {
   "cell_type": "code",
   "execution_count": 12,
   "id": "fbf1ce77-a392-4444-865e-174bc7b0dcc2",
   "metadata": {},
   "outputs": [
    {
     "name": "stdin",
     "output_type": "stream",
     "text": [
      "enter no. of students to be added: 3\n",
      "enter the name of student: sangee\n",
      "enter the sub1 mark: 45\n",
      "enter the sub2 mark: 64\n",
      "enter the sub3 mark: 78\n",
      "enter the name of student: sindhu\n",
      "enter the sub1 mark: 65\n",
      "enter the sub2 mark: 98\n",
      "enter the sub3 mark: 67\n",
      "enter the name of student: saras\n",
      "enter the sub1 mark: 79\n",
      "enter the sub2 mark: 56\n",
      "enter the sub3 mark: 89\n"
     ]
    },
    {
     "name": "stdout",
     "output_type": "stream",
     "text": [
      "values inserted successfully\n"
     ]
    }
   ],
   "source": [
    "#function to add student\n",
    "\n",
    "def add_student():\n",
    "    count=int(input(\"enter no. of students to be added:\"))\n",
    "    for i in range(count):\n",
    "        name= input(\"enter the name of student:\")\n",
    "        sub1=int(input(\"enter the sub1 mark:\"))\n",
    "        sub2=int(input(\"enter the sub2 mark:\"))\n",
    "        sub3=int(input(\"enter the sub3 mark:\"))\n",
    "\n",
    "    cursor.execute(\"\"\"insert into stu_tab(stu_name,s_sub1, s_sub2, s_sub3) values (?,?,?,?)\"\"\",(name,sub1, sub2, sub3))\n",
    "    conn.commit()\n",
    "\n",
    "    print(\"values inserted successfully\")\n",
    "\n",
    "add_student()"
   ]
  },
  {
   "cell_type": "code",
   "execution_count": 17,
   "id": "ad79a6e5-6b80-462c-acd7-a345aeaa71ba",
   "metadata": {},
   "outputs": [
    {
     "name": "stdout",
     "output_type": "stream",
     "text": [
      "\n",
      " ID | NAME | SUB1 | SUB2 | SUB3 | TOTAL | AVERAGE \n",
      "(1, 'saras', 79, 56, 89)\n"
     ]
    }
   ],
   "source": [
    "#function to view all student\n",
    "\n",
    "def view_student():\n",
    "    cursor.execute(\"select * from stu_tab\")\n",
    "    record=cursor.fetchall()\n",
    "    print(\"\\n ID | NAME | SUB1 | SUB2 | SUB3 | TOTAL | AVERAGE \")\n",
    "    for row in record:\n",
    "        print(row)\n",
    "\n",
    "view_student()"
   ]
  },
  {
   "cell_type": "code",
   "execution_count": 23,
   "id": "80223c0a-9fa1-4529-8f10-911293d31166",
   "metadata": {},
   "outputs": [
    {
     "name": "stdin",
     "output_type": "stream",
     "text": [
      "enter the name of student whose mark to update: sangee\n",
      "enter the updated mark for sub1: 78\n",
      "enter the updated mark for sub2: 90\n",
      "enter the updated mark for sub3: 75\n"
     ]
    },
    {
     "name": "stdout",
     "output_type": "stream",
     "text": [
      "sangee's marks updated successfully\n"
     ]
    }
   ],
   "source": [
    "#function to update student mark\n",
    "\n",
    "def update_marks():\n",
    "    name=input(\"enter the name of student whose mark to update:\")\n",
    "    s1=int(input(\"enter the updated mark for sub1:\"))\n",
    "    s2=int(input(\"enter the updated mark for sub2:\"))\n",
    "    s3=int(input(\"enter the updated mark for sub3:\"))\n",
    "\n",
    "    cursor.execute(\"update stu_tab set s_sub1=?, s_sub2=?, s_sub3=? where stu_name=?\",(s1,s2,s3,name))\n",
    "    conn.commit()\n",
    "\n",
    "    print(f\"{name}'s marks updated successfully\")\n",
    "\n",
    "update_marks()"
   ]
  },
  {
   "cell_type": "code",
   "execution_count": 25,
   "id": "6cdfa421-3327-46c2-bc8c-b4093c3b3607",
   "metadata": {},
   "outputs": [
    {
     "name": "stdin",
     "output_type": "stream",
     "text": [
      "enter the name of student to delete: sindhu\n"
     ]
    },
    {
     "ename": "ProgrammingError",
     "evalue": "Incorrect number of bindings supplied. The current statement uses 1, and there are 6 supplied.",
     "output_type": "error",
     "traceback": [
      "\u001b[0;31m---------------------------------------------------------------------------\u001b[0m",
      "\u001b[0;31mProgrammingError\u001b[0m                          Traceback (most recent call last)",
      "Cell \u001b[0;32mIn[25], line 9\u001b[0m\n\u001b[1;32m      6\u001b[0m     conn\u001b[38;5;241m.\u001b[39mcommit()\n\u001b[1;32m      7\u001b[0m     \u001b[38;5;28mprint\u001b[39m(\u001b[38;5;124mf\u001b[39m\u001b[38;5;124m\"\u001b[39m\u001b[38;5;132;01m{\u001b[39;00mname\u001b[38;5;132;01m}\u001b[39;00m\u001b[38;5;124m'\u001b[39m\u001b[38;5;124ms deleted\u001b[39m\u001b[38;5;124m\"\u001b[39m)\n\u001b[0;32m----> 9\u001b[0m \u001b[43mdelete_student\u001b[49m\u001b[43m(\u001b[49m\u001b[43m)\u001b[49m\n",
      "Cell \u001b[0;32mIn[25], line 5\u001b[0m, in \u001b[0;36mdelete_student\u001b[0;34m()\u001b[0m\n\u001b[1;32m      3\u001b[0m \u001b[38;5;28;01mdef\u001b[39;00m \u001b[38;5;21mdelete_student\u001b[39m():\n\u001b[1;32m      4\u001b[0m     name\u001b[38;5;241m=\u001b[39m\u001b[38;5;28minput\u001b[39m(\u001b[38;5;124m\"\u001b[39m\u001b[38;5;124menter the name of student to delete:\u001b[39m\u001b[38;5;124m\"\u001b[39m)\n\u001b[0;32m----> 5\u001b[0m     \u001b[43mcursor\u001b[49m\u001b[38;5;241;43m.\u001b[39;49m\u001b[43mexecute\u001b[49m\u001b[43m(\u001b[49m\u001b[38;5;124;43m\"\u001b[39;49m\u001b[38;5;124;43mdelete from stu_tab where stu_name=?\u001b[39;49m\u001b[38;5;124;43m\"\u001b[39;49m\u001b[43m,\u001b[49m\u001b[43m(\u001b[49m\u001b[43mname\u001b[49m\u001b[43m)\u001b[49m\u001b[43m)\u001b[49m\n\u001b[1;32m      6\u001b[0m     conn\u001b[38;5;241m.\u001b[39mcommit()\n\u001b[1;32m      7\u001b[0m     \u001b[38;5;28mprint\u001b[39m(\u001b[38;5;124mf\u001b[39m\u001b[38;5;124m\"\u001b[39m\u001b[38;5;132;01m{\u001b[39;00mname\u001b[38;5;132;01m}\u001b[39;00m\u001b[38;5;124m'\u001b[39m\u001b[38;5;124ms deleted\u001b[39m\u001b[38;5;124m\"\u001b[39m)\n",
      "\u001b[0;31mProgrammingError\u001b[0m: Incorrect number of bindings supplied. The current statement uses 1, and there are 6 supplied."
     ]
    }
   ],
   "source": [
    "#function to delete student\n",
    "\n",
    "def delete_student():\n",
    "    name=input(\"enter the name of student to delete:\")\n",
    "    cursor.execute(\"delete from stu_tab where stu_name=?\",(name))\n",
    "    conn.commit()\n",
    "    print(f\"{name}'s deleted\")\n",
    "\n",
    "delete_student()"
   ]
  },
  {
   "cell_type": "code",
   "execution_count": null,
   "id": "d815f3ad-efa8-4468-ae7d-ff5e2285d25f",
   "metadata": {},
   "outputs": [],
   "source": [
    "ProgrammingError: Incorrect number of bindings supplied. The current statement uses 1, and there are 6 supplied.\n",
    "\n",
    "his happens because of how you're passing the parameter name.\n",
    "\n",
    "You wrote:\n",
    "\n",
    "python\n",
    "Copy\n",
    "Edit\n",
    "cursor.execute(\"delete from stu_tab where stu_name=?\", (name))\n",
    "But (name) is not a tuple, it's just a string in parentheses.\n",
    "Python treats each character in the string as separate elements.\n",
    "\n",
    "So \"sindhu\" becomes:\n",
    "\n",
    "python\n",
    "Copy\n",
    "Edit\n",
    "('s', 'i', 'n', 'd', 'h', 'u')\n",
    "→ 6 items instead of 1.\n",
    "\n",
    "Corrected Code\n",
    "You just need to add a comma to make it a tuple:\n",
    "\n",
    "python\n",
    "Copy\n",
    "Edit\n",
    "cursor.execute(\"delete from stu_tab where stu_name=?\", (name,))\n",
    "Notice the comma after name. That’s what makes it a tuple with one element."
   ]
  },
  {
   "cell_type": "code",
   "execution_count": 26,
   "id": "660d91b5-b3b6-4a71-9758-3c7e287e9352",
   "metadata": {},
   "outputs": [
    {
     "name": "stdin",
     "output_type": "stream",
     "text": [
      "enter the name of student to delete: sindhu\n"
     ]
    },
    {
     "name": "stdout",
     "output_type": "stream",
     "text": [
      "sindhu's deleted\n"
     ]
    }
   ],
   "source": [
    "#correct function to delete student\n",
    "\n",
    "def delete_student():\n",
    "    name=input(\"enter the name of student to delete:\")\n",
    "    cursor.execute(\"delete from stu_tab where stu_name=?\",(name,))\n",
    "    conn.commit()\n",
    "    print(f\"{name}'s deleted\")\n",
    "\n",
    "delete_student()"
   ]
  },
  {
   "cell_type": "code",
   "execution_count": 39,
   "id": "8b8dcac7-1748-4208-82ab-bf38525a215c",
   "metadata": {},
   "outputs": [
    {
     "ename": "OperationalError",
     "evalue": "no such column: s_total",
     "output_type": "error",
     "traceback": [
      "\u001b[0;31m---------------------------------------------------------------------------\u001b[0m",
      "\u001b[0;31mOperationalError\u001b[0m                          Traceback (most recent call last)",
      "Cell \u001b[0;32mIn[39], line 17\u001b[0m\n\u001b[1;32m     13\u001b[0m     conn\u001b[38;5;241m.\u001b[39mcommit()\n\u001b[1;32m     15\u001b[0m     \u001b[38;5;28mprint\u001b[39m(\u001b[38;5;124m\"\u001b[39m\u001b[38;5;124mtotal and average updated\u001b[39m\u001b[38;5;124m\"\u001b[39m)\n\u001b[0;32m---> 17\u001b[0m \u001b[43mupdate_tot_avg\u001b[49m\u001b[43m(\u001b[49m\u001b[43m)\u001b[49m\n",
      "Cell \u001b[0;32mIn[39], line 12\u001b[0m, in \u001b[0;36mupdate_tot_avg\u001b[0;34m()\u001b[0m\n\u001b[1;32m      9\u001b[0m     tot \u001b[38;5;241m=\u001b[39m s_sub1\u001b[38;5;241m+\u001b[39ms_sub2\u001b[38;5;241m+\u001b[39ms_sub3\n\u001b[1;32m     10\u001b[0m     avg\u001b[38;5;241m=\u001b[39mtot\u001b[38;5;241m/\u001b[39m\u001b[38;5;241m3\u001b[39m\n\u001b[0;32m---> 12\u001b[0m \u001b[43mcursor\u001b[49m\u001b[38;5;241;43m.\u001b[39;49m\u001b[43mexecute\u001b[49m\u001b[43m(\u001b[49m\u001b[38;5;124;43m\"\u001b[39;49m\u001b[38;5;124;43m update stu_tab set s_total=?, average=? where id=?\u001b[39;49m\u001b[38;5;124;43m\"\u001b[39;49m\u001b[43m,\u001b[49m\u001b[43m(\u001b[49m\u001b[43mtot\u001b[49m\u001b[43m,\u001b[49m\u001b[43m \u001b[49m\u001b[43mavg\u001b[49m\u001b[43m,\u001b[49m\u001b[43m \u001b[49m\u001b[38;5;28;43mid\u001b[39;49m\u001b[43m)\u001b[49m\u001b[43m)\u001b[49m\n\u001b[1;32m     13\u001b[0m conn\u001b[38;5;241m.\u001b[39mcommit()\n\u001b[1;32m     15\u001b[0m \u001b[38;5;28mprint\u001b[39m(\u001b[38;5;124m\"\u001b[39m\u001b[38;5;124mtotal and average updated\u001b[39m\u001b[38;5;124m\"\u001b[39m)\n",
      "\u001b[0;31mOperationalError\u001b[0m: no such column: s_total"
     ]
    }
   ],
   "source": [
    "#function to update total and average\n",
    "\n",
    "def update_tot_avg():\n",
    "    cursor.execute(\"select id, s_sub1, s_sub2, s_sub3 from stu_tab\")\n",
    "    data=cursor.fetchall()\n",
    "\n",
    "    for row in data:\n",
    "        id, s_sub1, s_sub2, s_sub3 =row \n",
    "        tot = s_sub1+s_sub2+s_sub3\n",
    "        avg=tot/3\n",
    "    \n",
    "    cursor.execute(\" update stu_tab set s_total=?, average=? where id=?\",(tot, avg, id))\n",
    "    conn.commit()\n",
    "\n",
    "    print(\"total and average updated\")\n",
    "\n",
    "update_tot_avg()"
   ]
  },
  {
   "cell_type": "code",
   "execution_count": 42,
   "id": "5b2d174a-1823-460b-be6f-d753f185485a",
   "metadata": {},
   "outputs": [
    {
     "name": "stdout",
     "output_type": "stream",
     "text": [
      "columns added successfully\n"
     ]
    }
   ],
   "source": [
    "#adding new column\n",
    "\n",
    "def adding_column():\n",
    "\n",
    "    cursor.execute(\"alter table stu_tab add column s_total int\")\n",
    "    cursor.execute(\"alter table stu_tab add column average real\")\n",
    "\n",
    "    conn.commit()\n",
    "    print(\"columns added successfully\")\n",
    "\n",
    "adding_column()"
   ]
  },
  {
   "cell_type": "code",
   "execution_count": 43,
   "id": "7f371ddc-42de-4dc2-82aa-e5e505eca90e",
   "metadata": {},
   "outputs": [
    {
     "name": "stdout",
     "output_type": "stream",
     "text": [
      "total and average updated\n"
     ]
    }
   ],
   "source": [
    "#function to update total and average\n",
    "\n",
    "def update_tot_avg():\n",
    "    cursor.execute(\"select id, s_sub1, s_sub2, s_sub3 from stu_tab\")\n",
    "    data=cursor.fetchall()\n",
    "\n",
    "    for row in data:\n",
    "        id, s_sub1, s_sub2, s_sub3 =row \n",
    "        tot = s_sub1+s_sub2+s_sub3\n",
    "        avg=tot/3\n",
    "    \n",
    "    cursor.execute(\" update stu_tab set s_total=?, average=? where id=?\",(tot, avg, id))\n",
    "    conn.commit()\n",
    "\n",
    "    print(\"total and average updated\")\n",
    "\n",
    "update_tot_avg()"
   ]
  },
  {
   "cell_type": "code",
   "execution_count": 1,
   "id": "d91c44f4-4f71-4704-82e4-396ff3528e69",
   "metadata": {},
   "outputs": [
    {
     "name": "stdout",
     "output_type": "stream",
     "text": [
      "\n",
      " MENU:\n",
      "\n",
      " 1. Add student \n",
      " 2. Update student \n",
      " 3. View student \n",
      " 4. Add column \n",
      " 5. Update tot, avg \n",
      " 6. Delete student \n",
      " 7. Exit\n"
     ]
    },
    {
     "name": "stdin",
     "output_type": "stream",
     "text": [
      "enter the choice (1-6): 1\n"
     ]
    },
    {
     "ename": "NameError",
     "evalue": "name 'add_student' is not defined",
     "output_type": "error",
     "traceback": [
      "\u001b[0;31m---------------------------------------------------------------------------\u001b[0m",
      "\u001b[0;31mNameError\u001b[0m                                 Traceback (most recent call last)",
      "Cell \u001b[0;32mIn[1], line 10\u001b[0m\n\u001b[1;32m      7\u001b[0m choice\u001b[38;5;241m=\u001b[39m\u001b[38;5;28mint\u001b[39m(\u001b[38;5;28minput\u001b[39m(\u001b[38;5;124m\"\u001b[39m\u001b[38;5;124menter the choice (1-6):\u001b[39m\u001b[38;5;124m\"\u001b[39m))\n\u001b[1;32m      9\u001b[0m \u001b[38;5;28;01mif\u001b[39;00m choice\u001b[38;5;241m==\u001b[39m\u001b[38;5;241m1\u001b[39m:\n\u001b[0;32m---> 10\u001b[0m     \u001b[43madd_student\u001b[49m()\n\u001b[1;32m     12\u001b[0m \u001b[38;5;28;01melif\u001b[39;00m choice\u001b[38;5;241m==\u001b[39m\u001b[38;5;241m2\u001b[39m:\n\u001b[1;32m     13\u001b[0m     update_marks()\n",
      "\u001b[0;31mNameError\u001b[0m: name 'add_student' is not defined"
     ]
    }
   ],
   "source": [
    "#menu system\n",
    "\n",
    "while True:\n",
    "    print(\"\\n MENU:\")\n",
    "    print(\"\\n 1. Add student \\n 2. Update student \\n 3. View student \\n 4. Add column \\n 5. Update tot, avg \\n 6. Delete student \\n 7. Exit\")\n",
    "\n",
    "    choice=int(input(\"enter the choice (1-6):\"))\n",
    "\n",
    "    if choice==1:\n",
    "        add_student()\n",
    "\n",
    "    elif choice==2:\n",
    "        update_marks()\n",
    "\n",
    "    elif choice==3:\n",
    "        view_student()\n",
    "\n",
    "    elif choice==4:\n",
    "        adding_column()\n",
    "\n",
    "    elif choice==5:\n",
    "        update_tot_avg()\n",
    "\n",
    "    elif choice==6:\n",
    "        delete_student()\n",
    "\n",
    "    elif choice==7:\n",
    "        print(\"exiting\")\n",
    "        break\n",
    "\n",
    "    else:\n",
    "        print(\"invalid choice\")\n",
    "\n",
    "\n",
    "        "
   ]
  },
  {
   "cell_type": "code",
   "execution_count": null,
   "id": "090c2092-ea1e-4546-8641-be0a274f4e32",
   "metadata": {},
   "outputs": [
    {
     "name": "stdout",
     "output_type": "stream",
     "text": [
      "\n",
      " MENU:\n",
      "\n",
      " 1. Add student \n",
      " 2. Update student \n",
      " 3. View student \n",
      " 4. Add column \n",
      " 5. Update tot, avg \n",
      " 6. Delete student \n",
      " 7. Exit\n"
     ]
    },
    {
     "name": "stdin",
     "output_type": "stream",
     "text": [
      "enter the choice (1-6): 1\n",
      "enter no. of students to be added: 3\n",
      "enter the name of student: sangee\n",
      "enter the sub1 mark: 54\n",
      "enter the sub2 mark: 78\n",
      "enter the sub3 mark: 98\n",
      "enter the name of student: sindhu\n",
      "enter the sub1 mark: 76\n",
      "enter the sub2 mark: 57\n",
      "enter the sub3 mark: 68\n",
      "enter the name of student: saras\n",
      "enter the sub1 mark: 67\n",
      "enter the sub2 mark: 98\n",
      "enter the sub3 mark: 87\n"
     ]
    },
    {
     "name": "stdout",
     "output_type": "stream",
     "text": [
      "values inserted successfully\n",
      "\n",
      " MENU:\n",
      "\n",
      " 1. Add student \n",
      " 2. Update student \n",
      " 3. View student \n",
      " 4. Add column \n",
      " 5. Update tot, avg \n",
      " 6. Delete student \n",
      " 7. Exit\n"
     ]
    },
    {
     "name": "stdin",
     "output_type": "stream",
     "text": [
      "enter the choice (1-6): 2\n",
      "enter the name of student whose mark to update: sindhu\n",
      "enter the updated mark for sub1: 67\n",
      "enter the updated mark for sub2: 74\n",
      "enter the updated mark for sub3: 84\n"
     ]
    },
    {
     "name": "stdout",
     "output_type": "stream",
     "text": [
      "sindhu's marks updated successfully\n",
      "\n",
      " MENU:\n",
      "\n",
      " 1. Add student \n",
      " 2. Update student \n",
      " 3. View student \n",
      " 4. Add column \n",
      " 5. Update tot, avg \n",
      " 6. Delete student \n",
      " 7. Exit\n"
     ]
    },
    {
     "name": "stdin",
     "output_type": "stream",
     "text": [
      "enter the choice (1-6): 3\n"
     ]
    },
    {
     "name": "stdout",
     "output_type": "stream",
     "text": [
      "\n",
      " ID | NAME | SUB1 | SUB2 | SUB3 | TOTAL | AVERAGE \n",
      "(1, 'saras', 65, 76, 86, 224, 74.66666666666667)\n",
      "(2, 'vijaya', 56, 75, 86, None, None)\n",
      "(3, 'sange', 45, 64, 75, None, None)\n",
      "(4, 'saras', 67, 98, 87, None, None)\n",
      "\n",
      " MENU:\n",
      "\n",
      " 1. Add student \n",
      " 2. Update student \n",
      " 3. View student \n",
      " 4. Add column \n",
      " 5. Update tot, avg \n",
      " 6. Delete student \n",
      " 7. Exit\n"
     ]
    }
   ],
   "source": [
    "#together my code\n",
    "\n",
    "\n",
    "import sqlite3\n",
    "\n",
    "conn=sqlite3.connect(\"mark_database.db\")\n",
    "cursor=conn.cursor()\n",
    "\n",
    "#create table if not exist\n",
    "\n",
    "cursor.execute(\"\"\" create table if not exists\n",
    "stud_marks( s_id integer primary key autoincrement, \n",
    "name text not null,\n",
    "sub1 int,\n",
    "sub2 int,\n",
    "sub3 int)\"\"\")\n",
    "\n",
    "conn.commit()\n",
    "# print(\"table created successfully\")\n",
    "\n",
    "#we are getting error..so dropping existing table and creating new\n",
    "\n",
    "cursor.execute(\"drop table if exists stud_marks\")\n",
    "conn.commit()\n",
    "# print(\"existing table dropped\")\n",
    "\n",
    "#creating new table\n",
    "\n",
    "cursor.execute(\"\"\"create table if not exists\n",
    "stu_tab(id integer primary key autoincrement,\n",
    "stu_name text not null,\n",
    "s_sub1 int,\n",
    "s_sub2 int,\n",
    "s_sub3 int)\"\"\")\n",
    "\n",
    "conn.commit()\n",
    "# print(\"new table created successfully\")\n",
    "\n",
    "#function to add student\n",
    "\n",
    "def add_student():\n",
    "    count=int(input(\"enter no. of students to be added:\"))\n",
    "    for i in range(count):\n",
    "        name= input(\"enter the name of student:\")\n",
    "        sub1=int(input(\"enter the sub1 mark:\"))\n",
    "        sub2=int(input(\"enter the sub2 mark:\"))\n",
    "        sub3=int(input(\"enter the sub3 mark:\"))\n",
    "\n",
    "    cursor.execute(\"\"\"insert into stu_tab(stu_name,s_sub1, s_sub2, s_sub3) values (?,?,?,?)\"\"\",(name,sub1, sub2, sub3))\n",
    "    conn.commit()\n",
    "\n",
    "    print(\"values inserted successfully\")\n",
    "\n",
    "\n",
    "\n",
    "#function to view all student\n",
    "\n",
    "def view_student():\n",
    "    cursor.execute(\"select * from stu_tab\")\n",
    "    record=cursor.fetchall()\n",
    "    print(\"\\n ID | NAME | SUB1 | SUB2 | SUB3 | TOTAL | AVERAGE \")\n",
    "    for row in record:\n",
    "        print(row)\n",
    "\n",
    "\n",
    "\n",
    "#function to update student mark\n",
    "\n",
    "def update_marks():\n",
    "    name=input(\"enter the name of student whose mark to update:\")\n",
    "    s1=int(input(\"enter the updated mark for sub1:\"))\n",
    "    s2=int(input(\"enter the updated mark for sub2:\"))\n",
    "    s3=int(input(\"enter the updated mark for sub3:\"))\n",
    "\n",
    "    cursor.execute(\"update stu_tab set s_sub1=?, s_sub2=?, s_sub3=? where stu_name=?\",(s1,s2,s3,name))\n",
    "    conn.commit()\n",
    "\n",
    "    print(f\"{name}'s marks updated successfully\")\n",
    "\n",
    "\n",
    "\n",
    "#function to delete student\n",
    "\n",
    "def delete_student():\n",
    "    name=input(\"enter the name of student to delete:\")\n",
    "    cursor.execute(\"delete from stu_tab where stu_name=?\",(name))\n",
    "    conn.commit()\n",
    "    print(f\"{name}'s deleted\")\n",
    "\n",
    "\n",
    "\n",
    "#function to update total and average\n",
    "\n",
    "def update_tot_avg():\n",
    "    cursor.execute(\"select id, s_sub1, s_sub2, s_sub3 from stu_tab\")\n",
    "    data=cursor.fetchall()\n",
    "\n",
    "    for row in data:\n",
    "        id, s_sub1, s_sub2, s_sub3 =row \n",
    "        tot = s_sub1+s_sub2+s_sub3\n",
    "        avg=tot/3\n",
    "    \n",
    "    cursor.execute(\" update stu_tab set s_total=?, average=? where id=?\",(tot, avg, id))\n",
    "    conn.commit()\n",
    "\n",
    "    print(\"total and average updated\")\n",
    "\n",
    "\n",
    "\n",
    "#adding new column\n",
    "\n",
    "def adding_column():\n",
    "\n",
    "    cursor.execute(\"alter table stu_tab add column s_total int\")\n",
    "    cursor.execute(\"alter table stu_tab add column average real\")\n",
    "\n",
    "    conn.commit()\n",
    "    print(\"columns added successfully\")\n",
    "\n",
    "\n",
    "\n",
    "#function to update total and average\n",
    "\n",
    "def update_tot_avg():\n",
    "    cursor.execute(\"select id, s_sub1, s_sub2, s_sub3 from stu_tab\")\n",
    "    data=cursor.fetchall()\n",
    "\n",
    "    for row in data:\n",
    "        id, s_sub1, s_sub2, s_sub3 =row \n",
    "        tot = s_sub1+s_sub2+s_sub3\n",
    "        avg=tot/3\n",
    "    \n",
    "    cursor.execute(\" update stu_tab set s_total=?, average=? where id=?\",(tot, avg, id))\n",
    "    conn.commit()\n",
    "\n",
    "    print(\"total and average updated\")\n",
    "\n",
    "\n",
    "\n",
    "#menu system\n",
    "\n",
    "while True:\n",
    "    print(\"\\n MENU:\")\n",
    "    print(\"\\n 1. Add student \\n 2. Update student \\n 3. View student \\n 4. Add column \\n 5. Update tot, avg \\n 6. Delete student \\n 7. Exit\")\n",
    "\n",
    "    choice=int(input(\"enter the choice (1-6):\"))\n",
    "\n",
    "    if choice==1:\n",
    "        add_student()\n",
    "\n",
    "    elif choice==2:\n",
    "        update_marks()\n",
    "\n",
    "    elif choice==3:\n",
    "        view_student()\n",
    "\n",
    "    elif choice==4:\n",
    "        adding_column()\n",
    "\n",
    "    elif choice==5:\n",
    "        update_tot_avg()\n",
    "\n",
    "    elif choice==6:\n",
    "        delete_student()\n",
    "\n",
    "    elif choice==7:\n",
    "        print(\"exiting\")\n",
    "        break\n",
    "\n",
    "    else:\n",
    "        print(\"invalid choice\")\n",
    "\n",
    "\n",
    "        "
   ]
  },
  {
   "cell_type": "code",
   "execution_count": null,
   "id": "a894dd0c-a7a9-45af-ab3e-4b6aee297f62",
   "metadata": {},
   "outputs": [],
   "source": []
  },
  {
   "cell_type": "code",
   "execution_count": null,
   "id": "d74079a0-59ee-4c98-a16d-d663b15e5dfa",
   "metadata": {},
   "outputs": [],
   "source": []
  },
  {
   "cell_type": "code",
   "execution_count": 2,
   "id": "f27ae239-dfee-48f3-a233-de74e303509f",
   "metadata": {},
   "outputs": [
    {
     "name": "stdout",
     "output_type": "stream",
     "text": [
      "\n",
      "📘 MENU:\n",
      "1. Add Student\n",
      "2. View Students\n",
      "3. Update Student Marks\n",
      "4. Delete Student\n",
      "5. Update Total & Average\n",
      "6. Exit\n"
     ]
    },
    {
     "name": "stdin",
     "output_type": "stream",
     "text": [
      "Choose an option (1-6):  1\n",
      "Enter student name:  sangee\n",
      "Enter marks for subject 1:  65\n",
      "Enter marks for subject 2:  98\n",
      "Enter marks for subject 3:  79\n"
     ]
    },
    {
     "name": "stdout",
     "output_type": "stream",
     "text": [
      "✅ sangee added successfully!\n",
      "\n",
      "📘 MENU:\n",
      "1. Add Student\n",
      "2. View Students\n",
      "3. Update Student Marks\n",
      "4. Delete Student\n",
      "5. Update Total & Average\n",
      "6. Exit\n"
     ]
    },
    {
     "name": "stdin",
     "output_type": "stream",
     "text": [
      "Choose an option (1-6):  2\n"
     ]
    },
    {
     "name": "stdout",
     "output_type": "stream",
     "text": [
      "\n",
      "ID | Name | Sub1 | Sub2 | Sub3 | Total | Average\n",
      "(1, 'sangee', 65, 98, 79, None, None)\n",
      "\n",
      "📘 MENU:\n",
      "1. Add Student\n",
      "2. View Students\n",
      "3. Update Student Marks\n",
      "4. Delete Student\n",
      "5. Update Total & Average\n",
      "6. Exit\n"
     ]
    },
    {
     "name": "stdin",
     "output_type": "stream",
     "text": [
      "Choose an option (1-6):  3\n",
      "Enter the student name to update:  sangee\n",
      "Enter new marks for subject 1:  67\n",
      "Enter new marks for subject 2:  54\n",
      "Enter new marks for subject 3:  94\n"
     ]
    },
    {
     "name": "stdout",
     "output_type": "stream",
     "text": [
      "✅ Marks updated for sangee\n",
      "\n",
      "📘 MENU:\n",
      "1. Add Student\n",
      "2. View Students\n",
      "3. Update Student Marks\n",
      "4. Delete Student\n",
      "5. Update Total & Average\n",
      "6. Exit\n"
     ]
    },
    {
     "name": "stdin",
     "output_type": "stream",
     "text": [
      "Choose an option (1-6):  5\n"
     ]
    },
    {
     "name": "stdout",
     "output_type": "stream",
     "text": [
      "✅ Total and Average updated for all students.\n",
      "\n",
      "📘 MENU:\n",
      "1. Add Student\n",
      "2. View Students\n",
      "3. Update Student Marks\n",
      "4. Delete Student\n",
      "5. Update Total & Average\n",
      "6. Exit\n"
     ]
    },
    {
     "name": "stdin",
     "output_type": "stream",
     "text": [
      "Choose an option (1-6):  2\n"
     ]
    },
    {
     "name": "stdout",
     "output_type": "stream",
     "text": [
      "\n",
      "ID | Name | Sub1 | Sub2 | Sub3 | Total | Average\n",
      "(1, 'sangee', 67, 54, 94, 215, 71.66666666666667)\n",
      "\n",
      "📘 MENU:\n",
      "1. Add Student\n",
      "2. View Students\n",
      "3. Update Student Marks\n",
      "4. Delete Student\n",
      "5. Update Total & Average\n",
      "6. Exit\n"
     ]
    },
    {
     "name": "stdin",
     "output_type": "stream",
     "text": [
      "Choose an option (1-6):  4\n",
      "Enter the student name to delete:  sangee\n"
     ]
    },
    {
     "name": "stdout",
     "output_type": "stream",
     "text": [
      "❌ Record deleted for sangee\n",
      "\n",
      "📘 MENU:\n",
      "1. Add Student\n",
      "2. View Students\n",
      "3. Update Student Marks\n",
      "4. Delete Student\n",
      "5. Update Total & Average\n",
      "6. Exit\n"
     ]
    },
    {
     "name": "stdin",
     "output_type": "stream",
     "text": [
      "Choose an option (1-6):  2\n"
     ]
    },
    {
     "name": "stdout",
     "output_type": "stream",
     "text": [
      "\n",
      "ID | Name | Sub1 | Sub2 | Sub3 | Total | Average\n",
      "\n",
      "📘 MENU:\n",
      "1. Add Student\n",
      "2. View Students\n",
      "3. Update Student Marks\n",
      "4. Delete Student\n",
      "5. Update Total & Average\n",
      "6. Exit\n"
     ]
    },
    {
     "name": "stdin",
     "output_type": "stream",
     "text": [
      "Choose an option (1-6):  6\n"
     ]
    },
    {
     "name": "stdout",
     "output_type": "stream",
     "text": [
      "🔚 Exiting program. Goodbye!\n"
     ]
    }
   ],
   "source": [
    "import sqlite3\n",
    "\n",
    "# Connect to DB\n",
    "conn = sqlite3.connect(\"library.db\")\n",
    "cursor = conn.cursor()\n",
    "\n",
    "# Create table if not exists\n",
    "cursor.execute(\"\"\"\n",
    "CREATE TABLE IF NOT EXISTS student_mark (\n",
    "    id INTEGER PRIMARY KEY AUTOINCREMENT,\n",
    "    stu_name TEXT NOT NULL,\n",
    "    sub1 INTEGER,\n",
    "    sub2 INTEGER,\n",
    "    sub3 INTEGER,\n",
    "    total INTEGER,\n",
    "    average REAL\n",
    ")\n",
    "\"\"\")\n",
    "conn.commit()\n",
    "\n",
    "# Function to add student\n",
    "def add_student():\n",
    "    name = input(\"Enter student name: \")\n",
    "    sub1 = int(input(\"Enter marks for subject 1: \"))\n",
    "    sub2 = int(input(\"Enter marks for subject 2: \"))\n",
    "    sub3 = int(input(\"Enter marks for subject 3: \"))\n",
    "    cursor.execute(\"\"\"\n",
    "        INSERT INTO student_mark (stu_name, sub1, sub2, sub3)\n",
    "        VALUES (?, ?, ?, ?)\n",
    "    \"\"\", (name, sub1, sub2, sub3))\n",
    "    conn.commit()\n",
    "    print(f\"✅ {name} added successfully!\")\n",
    "\n",
    "# Function to view all students\n",
    "def view_students():\n",
    "    cursor.execute(\"SELECT * FROM student_mark\")\n",
    "    records = cursor.fetchall()\n",
    "    print(\"\\nID | Name | Sub1 | Sub2 | Sub3 | Total | Average\")\n",
    "    for row in records:\n",
    "        print(row)\n",
    "\n",
    "# Function to update student marks\n",
    "def update_student():\n",
    "    name = input(\"Enter the student name to update: \")\n",
    "    s1 = int(input(\"Enter new marks for subject 1: \"))\n",
    "    s2 = int(input(\"Enter new marks for subject 2: \"))\n",
    "    s3 = int(input(\"Enter new marks for subject 3: \"))\n",
    "    cursor.execute(\"\"\"\n",
    "        UPDATE student_mark \n",
    "        SET sub1 = ?, sub2 = ?, sub3 = ? \n",
    "        WHERE stu_name = ?\n",
    "    \"\"\", (s1, s2, s3, name))\n",
    "    conn.commit()\n",
    "    print(f\"✅ Marks updated for {name}\")\n",
    "\n",
    "# Function to delete a student\n",
    "def delete_student():\n",
    "    name = input(\"Enter the student name to delete: \")\n",
    "    cursor.execute(\"DELETE FROM student_mark WHERE stu_name = ?\", (name,))\n",
    "    conn.commit()\n",
    "    print(f\"❌ Record deleted for {name}\")\n",
    "\n",
    "# Function to update total and average\n",
    "def update_total_average():\n",
    "    cursor.execute(\"SELECT id, sub1, sub2, sub3 FROM student_mark\")\n",
    "    data = cursor.fetchall()\n",
    "    for row in data:\n",
    "        sid, s1, s2, s3 = row\n",
    "        total = s1 + s2 + s3\n",
    "        avg = total / 3\n",
    "        cursor.execute(\"\"\"\n",
    "            UPDATE student_mark \n",
    "            SET total = ?, average = ? \n",
    "            WHERE id = ?\n",
    "        \"\"\", (total, avg, sid))\n",
    "    conn.commit()\n",
    "    print(\"✅ Total and Average updated for all students.\")\n",
    "\n",
    "# -----------------------------\n",
    "# MENU SYSTEM\n",
    "# -----------------------------\n",
    "while True:\n",
    "    print(\"\\n📘 MENU:\")\n",
    "    print(\"1. Add Student\")\n",
    "    print(\"2. View Students\")\n",
    "    print(\"3. Update Student Marks\")\n",
    "    print(\"4. Delete Student\")\n",
    "    print(\"5. Update Total & Average\")\n",
    "    print(\"6. Exit\")\n",
    "\n",
    "    choice = input(\"Choose an option (1-6): \")\n",
    "\n",
    "    if choice == '1':\n",
    "        add_student()\n",
    "    elif choice == '2':\n",
    "        view_students()\n",
    "    elif choice == '3':\n",
    "        update_student()\n",
    "    elif choice == '4':\n",
    "        delete_student()\n",
    "    elif choice == '5':\n",
    "        update_total_average()\n",
    "    elif choice == '6':\n",
    "        print(\"🔚 Exiting program. Goodbye!\")\n",
    "        break\n",
    "    else:\n",
    "        print(\"❗Invalid option. Try again.\")\n"
   ]
  },
  {
   "cell_type": "markdown",
   "id": "72433b2f-dcbd-4664-b3ed-464732661843",
   "metadata": {},
   "source": []
  },
  {
   "cell_type": "code",
   "execution_count": null,
   "id": "5e90d361-1c02-4aed-a813-56167823af1b",
   "metadata": {},
   "outputs": [],
   "source": [
    "\n",
    "#final code with explanation\n",
    "\n",
    "# Importing sqlite3 library to use SQLite database\n",
    "import sqlite3\n",
    "\n",
    "# Step 1: Connect to a SQLite database\n",
    "# If \"library.db\" doesn't exist, it will create one\n",
    "conn = sqlite3.connect(\"library.db\")\n",
    "\n",
    "# Step 2: Create a cursor object\n",
    "# Cursor is used to execute SQL commands in Python\n",
    "cursor = conn.cursor()\n",
    "\n",
    "# Step 3: Create a table if it does not already exist\n",
    "# This creates a table named \"student_mark\" with:\n",
    "# id (auto-increment), student name, 3 subject marks, total and average\n",
    "cursor.execute(\"\"\"\n",
    "CREATE TABLE IF NOT EXISTS student_mark (\n",
    "    id INTEGER PRIMARY KEY AUTOINCREMENT,\n",
    "    stu_name TEXT NOT NULL,\n",
    "    sub1 INTEGER,\n",
    "    sub2 INTEGER,\n",
    "    sub3 INTEGER,\n",
    "    total INTEGER,\n",
    "    average REAL\n",
    ")\n",
    "\"\"\")\n",
    "conn.commit()  # Save (commit) the changes\n",
    "\n",
    "# Function to add a student’s name and marks (but not total and avg yet)\n",
    "def add_student():\n",
    "    name = input(\"Enter student name: \")\n",
    "    sub1 = int(input(\"Enter marks for subject 1: \"))\n",
    "    sub2 = int(input(\"Enter marks for subject 2: \"))\n",
    "    sub3 = int(input(\"Enter marks for subject 3: \"))\n",
    "    \n",
    "    # SQL INSERT query — ? are placeholders for data to be inserted\n",
    "    cursor.execute(\"\"\"\n",
    "        INSERT INTO student_mark (stu_name, sub1, sub2, sub3)\n",
    "        VALUES (?, ?, ?, ?)\n",
    "    \"\"\", (name, sub1, sub2, sub3))  # Tuple of values\n",
    "\n",
    "    conn.commit()  # Save changes\n",
    "    print(f\"✅ {name} added successfully!\")\n",
    "\n",
    "# Function to display all student records from the table\n",
    "def view_students():\n",
    "    cursor.execute(\"SELECT * FROM student_mark\")  # Fetch everything\n",
    "    records = cursor.fetchall()  # Get all records as a list of tuples\n",
    "    print(\"\\nID | Name | Sub1 | Sub2 | Sub3 | Total | Average\")\n",
    "    for row in records:\n",
    "        print(row)  # Each row is a tuple of one student’s record\n",
    "\n",
    "# Function to update a student's subject marks (based on name)\n",
    "def update_student():\n",
    "    name = input(\"Enter the student name to update: \")\n",
    "    s1 = int(input(\"Enter new marks for subject 1: \"))\n",
    "    s2 = int(input(\"Enter new marks for subject 2: \"))\n",
    "    s3 = int(input(\"Enter new marks for subject 3: \"))\n",
    "\n",
    "    # UPDATE SQL query to modify subject marks\n",
    "    cursor.execute(\"\"\"\n",
    "        UPDATE student_mark \n",
    "        SET sub1 = ?, sub2 = ?, sub3 = ? \n",
    "        WHERE stu_name = ?\n",
    "    \"\"\", (s1, s2, s3, name))\n",
    "\n",
    "    conn.commit()\n",
    "    print(f\"✅ Marks updated for {name}\")\n",
    "\n",
    "# Function to delete a student's record\n",
    "def delete_student():\n",
    "    name = input(\"Enter the student name to delete: \")\n",
    "\n",
    "    # DELETE query using name as filter\n",
    "    cursor.execute(\"DELETE FROM student_mark WHERE stu_name = ?\", (name,))\n",
    "    conn.commit()\n",
    "    print(f\"❌ Record deleted for {name}\")\n",
    "\n",
    "# Function to calculate and update total and average for all students\n",
    "def update_total_average():\n",
    "    cursor.execute(\"SELECT id, sub1, sub2, sub3 FROM student_mark\")\n",
    "    data = cursor.fetchall()\n",
    "\n",
    "    for row in data:\n",
    "        sid, s1, s2, s3 = row  # Extract values from the row tuple\n",
    "        total = s1 + s2 + s3\n",
    "        avg = total / 3  # Average as float\n",
    "\n",
    "        # Update total and average using id\n",
    "        cursor.execute(\"\"\"\n",
    "            UPDATE student_mark \n",
    "            SET total = ?, average = ? \n",
    "            WHERE id = ?\n",
    "        \"\"\", (total, avg, sid))\n",
    "\n",
    "    conn.commit()\n",
    "    print(\"✅ Total and Average updated for all students.\")\n",
    "\n",
    "# -----------------------------\n",
    "# MENU SYSTEM - User Interface\n",
    "# -----------------------------\n",
    "while True:\n",
    "    print(\"\\n📘 MENU:\")\n",
    "    print(\"1. Add Student\")\n",
    "    print(\"2. View Students\")\n",
    "    print(\"3. Update Student Marks\")\n",
    "    print(\"4. Delete Student\")\n",
    "    print(\"5. Update Total & Average\")\n",
    "    print(\"6. Exit\")\n",
    "\n",
    "    # Take user input and match with the options\n",
    "    choice = input(\"Choose an option (1-6): \")\n",
    "\n",
    "    if choice == '1':\n",
    "        add_student()\n",
    "    elif choice == '2':\n",
    "        view_students()\n",
    "    elif choice == '3':\n",
    "        update_student()\n",
    "    elif choice == '4':\n",
    "        delete_student()\n",
    "    elif choice == '5':\n",
    "        update_total_average()\n",
    "    elif choice == '6':\n",
    "        print(\"🔚 Exiting program. Goodbye!\")\n",
    "        break  # Exit the loop and program\n",
    "    else:\n",
    "        print(\"❗Invalid option. Try again.\")\n"
   ]
  }
 ],
 "metadata": {
  "kernelspec": {
   "display_name": "anaconda-2024.02-py310",
   "language": "python",
   "name": "conda-env-anaconda-2024.02-py310-py"
  },
  "language_info": {
   "codemirror_mode": {
    "name": "ipython",
    "version": 3
   },
   "file_extension": ".py",
   "mimetype": "text/x-python",
   "name": "python",
   "nbconvert_exporter": "python",
   "pygments_lexer": "ipython3",
   "version": "3.10.14"
  }
 },
 "nbformat": 4,
 "nbformat_minor": 5
}
