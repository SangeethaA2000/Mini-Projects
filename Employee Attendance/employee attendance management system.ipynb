{
 "cells": [
  {
   "cell_type": "code",
   "execution_count": 2,
   "id": "4e4b4da9-8dd6-4e11-a049-cc6ec2008173",
   "metadata": {},
   "outputs": [
    {
     "name": "stdout",
     "output_type": "stream",
     "text": [
      "tables created successfully\n"
     ]
    }
   ],
   "source": [
    "import sqlite3\n",
    "from datetime import datetime\n",
    "\n",
    "#creating database and connecting\n",
    "\n",
    "conn=sqlite3.connect(\"attendance.db\")\n",
    "cursor=conn.cursor()\n",
    "\n",
    "#creating 2 tables\n",
    "\n",
    "cursor.execute(\"\"\"create table if not exists\n",
    "employee_info(emp_id integer primary key autoincrement,\n",
    "name text not null, \n",
    "department text)\"\"\")\n",
    "\n",
    "cursor.execute(\"\"\"create table if not exists\n",
    "attendance_log(log_id integer primary key autoincrement,\n",
    "emp_id int,\n",
    "checkin datetime,\n",
    "checkout datetime,\n",
    "foreign key (emp_id) references employee_info(emp_id))\"\"\")\n",
    "\n",
    "conn.commit()\n",
    "print(\"tables created successfully\")"
   ]
  },
  {
   "cell_type": "code",
   "execution_count": 3,
   "id": "8c8945f9-959a-45a1-8c70-bf60e78e4223",
   "metadata": {},
   "outputs": [
    {
     "name": "stdin",
     "output_type": "stream",
     "text": [
      "enter the no. of employees: 2\n",
      "enter the name: sangee\n",
      "enter the dept: HR\n",
      "enter the name: sindhu\n",
      "enter the dept: Banking\n"
     ]
    },
    {
     "name": "stdout",
     "output_type": "stream",
     "text": [
      "values inserted successfully\n"
     ]
    }
   ],
   "source": [
    "#adding values to employees\n",
    "\n",
    "def add_employee():\n",
    "    count=int(input(\"enter the no. of employees:\"))\n",
    "    for i in range(count):\n",
    "        \n",
    "        e_name=input(\"enter the name:\")\n",
    "        e_dept=input(\"enter the dept:\")\n",
    "\n",
    "    cursor.execute(\"insert into employee_info (name,department) values (?,?)\",(e_name,e_dept))\n",
    "\n",
    "    conn.commit()\n",
    "    print(\"values inserted successfully\")\n",
    "\n",
    "add_employee()"
   ]
  },
  {
   "cell_type": "code",
   "execution_count": 4,
   "id": "dbdd9b72-07c2-43be-943c-26e88e3cd8fd",
   "metadata": {},
   "outputs": [
    {
     "name": "stdin",
     "output_type": "stream",
     "text": [
      "enter the employee id for checkin time: 1\n"
     ]
    },
    {
     "name": "stdout",
     "output_type": "stream",
     "text": [
      "checkin recorded as 2025-07-13 06:50:21.883657 for emp_Id 1\n"
     ]
    }
   ],
   "source": [
    "#mark attendance - check in\n",
    "\n",
    "def mark_checkin():\n",
    "    emp_id=int(input(\"enter the employee id for checkin time:\"))\n",
    "    checkin_time=datetime.now()\n",
    "\n",
    "    cursor.execute(\"\"\"insert into attendance_log(emp_id, checkin) values(?,?)\"\"\", (emp_id, checkin_time))\n",
    "    conn.commit()\n",
    "\n",
    "    print(f\"checkin recorded as {checkin_time} for emp_Id {emp_id}\")\n",
    "\n",
    "mark_checkin()"
   ]
  },
  {
   "cell_type": "code",
   "execution_count": 9,
   "id": "b404e2a8-f65f-4300-88a5-0e62ab4eb3c4",
   "metadata": {},
   "outputs": [
    {
     "name": "stdin",
     "output_type": "stream",
     "text": [
      "enter the employee id for checkout time: 1\n"
     ]
    },
    {
     "name": "stdout",
     "output_type": "stream",
     "text": [
      "checkout recorded as 2025-07-12 19:14:34.244329 for emp_Id 1\n"
     ]
    }
   ],
   "source": [
    "#mark attendance - check out\n",
    "\n",
    "def mark_checkout():\n",
    "    emp_id=int(input(\"enter the employee id for checkout time:\"))\n",
    "    checkout_time=datetime.now()\n",
    "\n",
    "    cursor.execute(\"\"\" insert into attendance_log(emp_id,checkout) values(?,?)\"\"\",(emp_id,checkout_time))\n",
    "    conn.commit()\n",
    "\n",
    "    print(f\"checkout recorded as {checkout_time} for emp_Id {emp_id}\")\n",
    "\n",
    "mark_checkout()\n",
    "\n",
    "\n",
    "\n",
    "#bt we should not give like this  - its incorrect\n",
    "#both checkin and checkout should come in same row - bt here it will come in different rows\n",
    "#bcoz insert alwz create new row in table -- even if we give values for 1 or 2 columns\n",
    "#insert doesnt find existing row --alwz creates new one \n",
    "\n",
    "#so it will be in one by one next line\n",
    "#bt we want in same line nearby checkin \n",
    "#so we hv to check the checkin of emp. and find the recent null(empty) space in checkout -\n",
    "#there time should be filled - so check the below code to perform it\n",
    "\n",
    "#so we should use update - it edits and existing row"
   ]
  },
  {
   "cell_type": "code",
   "execution_count": 5,
   "id": "b595f09e-d9d9-4f70-b206-caa8d89190ca",
   "metadata": {},
   "outputs": [
    {
     "name": "stdin",
     "output_type": "stream",
     "text": [
      "enter the employee id for checkout time: 1\n"
     ]
    },
    {
     "name": "stdout",
     "output_type": "stream",
     "text": [
      "checkout recorded as 2025-07-13 06:50:39.993819 for emp_Id 1\n"
     ]
    }
   ],
   "source": [
    "def mark_checkout():\n",
    "    emp_id=int(input(\"enter the employee id for checkout time:\"))\n",
    "    checkout_time=datetime.now()\n",
    "\n",
    "    cursor.execute(\"\"\" update attendance_log set checkout=? where emp_id=? and checkout is null\"\"\",(checkout_time,emp_id))\n",
    "    conn.commit()\n",
    "\n",
    "    if cursor.rowcount>0:\n",
    "        print(f\"checkout recorded as {checkout_time} for emp_Id {emp_id}\")\n",
    "    else:\n",
    "        print(\"no open checkin found for this employee. Maybe already checked out or invalid ID\")\n",
    "\n",
    "mark_checkout()\n"
   ]
  },
  {
   "cell_type": "code",
   "execution_count": 6,
   "id": "f57de5d4-5670-4106-b1cc-42052d4fa5ad",
   "metadata": {},
   "outputs": [
    {
     "name": "stdout",
     "output_type": "stream",
     "text": [
      "attendace log\n"
     ]
    },
    {
     "data": {
      "text/html": [
       "<div>\n",
       "<style scoped>\n",
       "    .dataframe tbody tr th:only-of-type {\n",
       "        vertical-align: middle;\n",
       "    }\n",
       "\n",
       "    .dataframe tbody tr th {\n",
       "        vertical-align: top;\n",
       "    }\n",
       "\n",
       "    .dataframe thead th {\n",
       "        text-align: right;\n",
       "    }\n",
       "</style>\n",
       "<table border=\"1\" class=\"dataframe\">\n",
       "  <thead>\n",
       "    <tr style=\"text-align: right;\">\n",
       "      <th></th>\n",
       "      <th>log_id</th>\n",
       "      <th>emp_id</th>\n",
       "      <th>checkin</th>\n",
       "      <th>checkout</th>\n",
       "    </tr>\n",
       "  </thead>\n",
       "  <tbody>\n",
       "    <tr>\n",
       "      <th>0</th>\n",
       "      <td>4</td>\n",
       "      <td>1</td>\n",
       "      <td>2025-07-13 06:50:21.883657</td>\n",
       "      <td>2025-07-13 06:50:39.993819</td>\n",
       "    </tr>\n",
       "    <tr>\n",
       "      <th>1</th>\n",
       "      <td>2</td>\n",
       "      <td>2</td>\n",
       "      <td>2025-07-12 18:51:48.263251</td>\n",
       "      <td>None</td>\n",
       "    </tr>\n",
       "    <tr>\n",
       "      <th>2</th>\n",
       "      <td>1</td>\n",
       "      <td>2</td>\n",
       "      <td>2025-07-12 18:51:05.230586</td>\n",
       "      <td>None</td>\n",
       "    </tr>\n",
       "    <tr>\n",
       "      <th>3</th>\n",
       "      <td>3</td>\n",
       "      <td>1</td>\n",
       "      <td>None</td>\n",
       "      <td>2025-07-12 19:14:34.244329</td>\n",
       "    </tr>\n",
       "  </tbody>\n",
       "</table>\n",
       "</div>"
      ],
      "text/plain": [
       "   log_id  emp_id                     checkin                    checkout\n",
       "0       4       1  2025-07-13 06:50:21.883657  2025-07-13 06:50:39.993819\n",
       "1       2       2  2025-07-12 18:51:48.263251                        None\n",
       "2       1       2  2025-07-12 18:51:05.230586                        None\n",
       "3       3       1                        None  2025-07-12 19:14:34.244329"
      ]
     },
     "metadata": {},
     "output_type": "display_data"
    }
   ],
   "source": [
    "#to view in table form\n",
    "\n",
    "import pandas as pd\n",
    "\n",
    "def view_attendance_table():\n",
    "    query=\"select * from attendance_log order by checkin desc\"\n",
    "    df=pd.read_sql_query(query,conn)\n",
    "\n",
    "    if df.empty:\n",
    "        print(\"no attendance records found\")\n",
    "\n",
    "    else:\n",
    "        print(\"attendace log\")\n",
    "\n",
    "        display(df)\n",
    "\n",
    "view_attendance_table()"
   ]
  },
  {
   "cell_type": "code",
   "execution_count": 7,
   "id": "208043fd-ff30-484e-bac6-b7993476a944",
   "metadata": {},
   "outputs": [
    {
     "name": "stdin",
     "output_type": "stream",
     "text": [
      "enter the no. of employees: 5\n",
      "enter the name: anbazagan\n",
      "enter the dept: EB\n",
      "enter the name: saraswathi\n",
      "enter the dept: homemaker\n",
      "enter the name: sangeetha\n",
      "enter the dept: IT\n",
      "enter the name: sindhu\n",
      "enter the dept: Banking\n",
      "enter the name: vijaya\n",
      "enter the dept: homemaker\n"
     ]
    },
    {
     "name": "stdout",
     "output_type": "stream",
     "text": [
      "values inserted successfully\n"
     ]
    }
   ],
   "source": [
    "#will try one by one\n",
    "\n",
    "add_employee()"
   ]
  },
  {
   "cell_type": "code",
   "execution_count": 8,
   "id": "42eb23e2-7d19-4158-b53c-4cbb23e63dda",
   "metadata": {},
   "outputs": [
    {
     "name": "stdin",
     "output_type": "stream",
     "text": [
      "enter the employee id for checkin time: 3\n"
     ]
    },
    {
     "name": "stdout",
     "output_type": "stream",
     "text": [
      "checkin recorded as 2025-07-13 07:15:23.849452 for emp_Id 3\n"
     ]
    }
   ],
   "source": [
    "mark_checkin()"
   ]
  },
  {
   "cell_type": "code",
   "execution_count": 17,
   "id": "71a68762-6388-484b-a2e7-11fa2787a722",
   "metadata": {},
   "outputs": [
    {
     "name": "stdin",
     "output_type": "stream",
     "text": [
      "enter the emp_id for checkout: 3\n"
     ]
    },
    {
     "name": "stdout",
     "output_type": "stream",
     "text": [
      "attendace log\n"
     ]
    },
    {
     "data": {
      "text/html": [
       "<div>\n",
       "<style scoped>\n",
       "    .dataframe tbody tr th:only-of-type {\n",
       "        vertical-align: middle;\n",
       "    }\n",
       "\n",
       "    .dataframe tbody tr th {\n",
       "        vertical-align: top;\n",
       "    }\n",
       "\n",
       "    .dataframe thead th {\n",
       "        text-align: right;\n",
       "    }\n",
       "</style>\n",
       "<table border=\"1\" class=\"dataframe\">\n",
       "  <thead>\n",
       "    <tr style=\"text-align: right;\">\n",
       "      <th></th>\n",
       "      <th>log_id</th>\n",
       "      <th>emp_id</th>\n",
       "      <th>checkin</th>\n",
       "      <th>checkout</th>\n",
       "    </tr>\n",
       "  </thead>\n",
       "  <tbody>\n",
       "    <tr>\n",
       "      <th>0</th>\n",
       "      <td>5</td>\n",
       "      <td>3</td>\n",
       "      <td>2025-07-13 07:15:23.849452</td>\n",
       "      <td>None</td>\n",
       "    </tr>\n",
       "    <tr>\n",
       "      <th>1</th>\n",
       "      <td>4</td>\n",
       "      <td>1</td>\n",
       "      <td>2025-07-13 06:50:21.883657</td>\n",
       "      <td>2025-07-13 06:50:39.993819</td>\n",
       "    </tr>\n",
       "    <tr>\n",
       "      <th>2</th>\n",
       "      <td>2</td>\n",
       "      <td>2</td>\n",
       "      <td>2025-07-12 18:51:48.263251</td>\n",
       "      <td>2025-07-13 07:29:29.565601</td>\n",
       "    </tr>\n",
       "    <tr>\n",
       "      <th>3</th>\n",
       "      <td>1</td>\n",
       "      <td>2</td>\n",
       "      <td>2025-07-12 18:51:05.230586</td>\n",
       "      <td>2025-07-13 07:29:49.588985</td>\n",
       "    </tr>\n",
       "    <tr>\n",
       "      <th>4</th>\n",
       "      <td>3</td>\n",
       "      <td>1</td>\n",
       "      <td>None</td>\n",
       "      <td>2025-07-12 19:14:34.244329</td>\n",
       "    </tr>\n",
       "  </tbody>\n",
       "</table>\n",
       "</div>"
      ],
      "text/plain": [
       "   log_id  emp_id                     checkin                    checkout\n",
       "0       5       3  2025-07-13 07:15:23.849452                        None\n",
       "1       4       1  2025-07-13 06:50:21.883657  2025-07-13 06:50:39.993819\n",
       "2       2       2  2025-07-12 18:51:48.263251  2025-07-13 07:29:29.565601\n",
       "3       1       2  2025-07-12 18:51:05.230586  2025-07-13 07:29:49.588985\n",
       "4       3       1                        None  2025-07-12 19:14:34.244329"
      ]
     },
     "metadata": {},
     "output_type": "display_data"
    }
   ],
   "source": [
    "#will write code for checkout with validation \n",
    "\n",
    "def mark_checkout():\n",
    "    emp_id=int(input(\"enter the emp_id for checkout:\"))\n",
    "    checkout_time=datetime.now()    #stores current date time\n",
    "\n",
    "    cursor.execute(\"\"\"select log_id from attendance_log where emp_id-? and\n",
    "                    checkin is not null and checkout is null\n",
    "                    order by log_id desc\n",
    "                    limit 1\"\"\",(emp_id,))\n",
    "\n",
    "    result=cursor.fetchone()   #gets first row from result , if nothing matches returns null\n",
    "\n",
    "    if result:\n",
    "        log_id=result[0]\n",
    "\n",
    "    cursor.execute(\"\"\"update attendance_log set checkout=? where log_id=?\"\"\",(checkout_time, log_id))\n",
    "\n",
    "    conn.commit()\n",
    "\n",
    "\n",
    "\n",
    "mark_checkout()\n",
    "\n"
   ]
  },
  {
   "cell_type": "code",
   "execution_count": 16,
   "id": "3b55a52d-a411-43fb-8f77-0e4256ce1409",
   "metadata": {},
   "outputs": [
    {
     "name": "stdout",
     "output_type": "stream",
     "text": [
      "attendace log\n"
     ]
    },
    {
     "data": {
      "text/html": [
       "<div>\n",
       "<style scoped>\n",
       "    .dataframe tbody tr th:only-of-type {\n",
       "        vertical-align: middle;\n",
       "    }\n",
       "\n",
       "    .dataframe tbody tr th {\n",
       "        vertical-align: top;\n",
       "    }\n",
       "\n",
       "    .dataframe thead th {\n",
       "        text-align: right;\n",
       "    }\n",
       "</style>\n",
       "<table border=\"1\" class=\"dataframe\">\n",
       "  <thead>\n",
       "    <tr style=\"text-align: right;\">\n",
       "      <th></th>\n",
       "      <th>log_id</th>\n",
       "      <th>emp_id</th>\n",
       "      <th>checkin</th>\n",
       "      <th>checkout</th>\n",
       "    </tr>\n",
       "  </thead>\n",
       "  <tbody>\n",
       "    <tr>\n",
       "      <th>0</th>\n",
       "      <td>5</td>\n",
       "      <td>3</td>\n",
       "      <td>2025-07-13 07:15:23.849452</td>\n",
       "      <td>None</td>\n",
       "    </tr>\n",
       "    <tr>\n",
       "      <th>1</th>\n",
       "      <td>4</td>\n",
       "      <td>1</td>\n",
       "      <td>2025-07-13 06:50:21.883657</td>\n",
       "      <td>2025-07-13 06:50:39.993819</td>\n",
       "    </tr>\n",
       "    <tr>\n",
       "      <th>2</th>\n",
       "      <td>2</td>\n",
       "      <td>2</td>\n",
       "      <td>2025-07-12 18:51:48.263251</td>\n",
       "      <td>2025-07-13 07:29:29.565601</td>\n",
       "    </tr>\n",
       "    <tr>\n",
       "      <th>3</th>\n",
       "      <td>1</td>\n",
       "      <td>2</td>\n",
       "      <td>2025-07-12 18:51:05.230586</td>\n",
       "      <td>None</td>\n",
       "    </tr>\n",
       "    <tr>\n",
       "      <th>4</th>\n",
       "      <td>3</td>\n",
       "      <td>1</td>\n",
       "      <td>None</td>\n",
       "      <td>2025-07-12 19:14:34.244329</td>\n",
       "    </tr>\n",
       "  </tbody>\n",
       "</table>\n",
       "</div>"
      ],
      "text/plain": [
       "   log_id  emp_id                     checkin                    checkout\n",
       "0       5       3  2025-07-13 07:15:23.849452                        None\n",
       "1       4       1  2025-07-13 06:50:21.883657  2025-07-13 06:50:39.993819\n",
       "2       2       2  2025-07-12 18:51:48.263251  2025-07-13 07:29:29.565601\n",
       "3       1       2  2025-07-12 18:51:05.230586                        None\n",
       "4       3       1                        None  2025-07-12 19:14:34.244329"
      ]
     },
     "metadata": {},
     "output_type": "display_data"
    }
   ],
   "source": [
    "view_attendance_table()"
   ]
  },
  {
   "cell_type": "code",
   "execution_count": 25,
   "id": "e90a8f0b-a369-4680-b295-4ca8fa99c3ed",
   "metadata": {},
   "outputs": [
    {
     "name": "stdin",
     "output_type": "stream",
     "text": [
      "enter the no. of employees: 2\n",
      "enter the name: san\n",
      "enter the dept: it\n",
      "enter the name: sid\n",
      "enter the dept: bank\n"
     ]
    },
    {
     "name": "stdout",
     "output_type": "stream",
     "text": [
      "values inserted successfully\n"
     ]
    },
    {
     "name": "stdin",
     "output_type": "stream",
     "text": [
      "enter the employee id for checkin time: 2\n"
     ]
    },
    {
     "name": "stdout",
     "output_type": "stream",
     "text": [
      "checkin recorded as 2025-07-13 08:00:26.969730 for emp_Id 2\n"
     ]
    },
    {
     "name": "stdin",
     "output_type": "stream",
     "text": [
      "Enter the Employee ID for checkout:  2\n"
     ]
    },
    {
     "name": "stdout",
     "output_type": "stream",
     "text": [
      "✅ Checkout recorded at 2025-07-13 08:00:28.332348 for Employee ID 2\n",
      "attendace log\n"
     ]
    },
    {
     "data": {
      "text/html": [
       "<div>\n",
       "<style scoped>\n",
       "    .dataframe tbody tr th:only-of-type {\n",
       "        vertical-align: middle;\n",
       "    }\n",
       "\n",
       "    .dataframe tbody tr th {\n",
       "        vertical-align: top;\n",
       "    }\n",
       "\n",
       "    .dataframe thead th {\n",
       "        text-align: right;\n",
       "    }\n",
       "</style>\n",
       "<table border=\"1\" class=\"dataframe\">\n",
       "  <thead>\n",
       "    <tr style=\"text-align: right;\">\n",
       "      <th></th>\n",
       "      <th>log_id</th>\n",
       "      <th>emp_id</th>\n",
       "      <th>checkin</th>\n",
       "      <th>checkout</th>\n",
       "    </tr>\n",
       "  </thead>\n",
       "  <tbody>\n",
       "    <tr>\n",
       "      <th>0</th>\n",
       "      <td>9</td>\n",
       "      <td>2</td>\n",
       "      <td>2025-07-13 08:00:26.969730</td>\n",
       "      <td>2025-07-13 08:00:28.332348</td>\n",
       "    </tr>\n",
       "    <tr>\n",
       "      <th>1</th>\n",
       "      <td>8</td>\n",
       "      <td>2</td>\n",
       "      <td>2025-07-13 07:36:08.955743</td>\n",
       "      <td>2025-07-13 07:36:10.945528</td>\n",
       "    </tr>\n",
       "    <tr>\n",
       "      <th>2</th>\n",
       "      <td>7</td>\n",
       "      <td>1</td>\n",
       "      <td>2025-07-13 07:33:48.938051</td>\n",
       "      <td>2025-07-13 07:33:53.388631</td>\n",
       "    </tr>\n",
       "    <tr>\n",
       "      <th>3</th>\n",
       "      <td>6</td>\n",
       "      <td>4</td>\n",
       "      <td>2025-07-13 07:33:05.157430</td>\n",
       "      <td>2025-07-13 07:33:09.086117</td>\n",
       "    </tr>\n",
       "    <tr>\n",
       "      <th>4</th>\n",
       "      <td>5</td>\n",
       "      <td>3</td>\n",
       "      <td>2025-07-13 07:15:23.849452</td>\n",
       "      <td>None</td>\n",
       "    </tr>\n",
       "    <tr>\n",
       "      <th>5</th>\n",
       "      <td>4</td>\n",
       "      <td>1</td>\n",
       "      <td>2025-07-13 06:50:21.883657</td>\n",
       "      <td>2025-07-13 06:50:39.993819</td>\n",
       "    </tr>\n",
       "    <tr>\n",
       "      <th>6</th>\n",
       "      <td>2</td>\n",
       "      <td>2</td>\n",
       "      <td>2025-07-12 18:51:48.263251</td>\n",
       "      <td>2025-07-13 07:29:29.565601</td>\n",
       "    </tr>\n",
       "    <tr>\n",
       "      <th>7</th>\n",
       "      <td>1</td>\n",
       "      <td>2</td>\n",
       "      <td>2025-07-12 18:51:05.230586</td>\n",
       "      <td>2025-07-13 07:29:49.588985</td>\n",
       "    </tr>\n",
       "    <tr>\n",
       "      <th>8</th>\n",
       "      <td>3</td>\n",
       "      <td>1</td>\n",
       "      <td>None</td>\n",
       "      <td>2025-07-12 19:14:34.244329</td>\n",
       "    </tr>\n",
       "  </tbody>\n",
       "</table>\n",
       "</div>"
      ],
      "text/plain": [
       "   log_id  emp_id                     checkin                    checkout\n",
       "0       9       2  2025-07-13 08:00:26.969730  2025-07-13 08:00:28.332348\n",
       "1       8       2  2025-07-13 07:36:08.955743  2025-07-13 07:36:10.945528\n",
       "2       7       1  2025-07-13 07:33:48.938051  2025-07-13 07:33:53.388631\n",
       "3       6       4  2025-07-13 07:33:05.157430  2025-07-13 07:33:09.086117\n",
       "4       5       3  2025-07-13 07:15:23.849452                        None\n",
       "5       4       1  2025-07-13 06:50:21.883657  2025-07-13 06:50:39.993819\n",
       "6       2       2  2025-07-12 18:51:48.263251  2025-07-13 07:29:29.565601\n",
       "7       1       2  2025-07-12 18:51:05.230586  2025-07-13 07:29:49.588985\n",
       "8       3       1                        None  2025-07-12 19:14:34.244329"
      ]
     },
     "metadata": {},
     "output_type": "display_data"
    }
   ],
   "source": [
    "from datetime import datetime  # To get current date & time\n",
    "\n",
    "def mark_checkout():\n",
    "    try:\n",
    "        # Ask for employee ID\n",
    "        emp_id = int(input(\"Enter the Employee ID for checkout: \"))\n",
    "\n",
    "        # Capture the current time to use as checkout time\n",
    "        checkout_time = datetime.now()\n",
    "\n",
    "        # Find the latest log where:\n",
    "        # - the employee has already checked in\n",
    "        # - but not yet checked out (checkout is NULL)\n",
    "        cursor.execute(\"\"\"\n",
    "            SELECT log_id FROM attendance_log\n",
    "            WHERE emp_id = ? AND checkin IS NOT NULL AND checkout IS NULL\n",
    "            ORDER BY log_id DESC\n",
    "            LIMIT 1\n",
    "        \"\"\", (emp_id,))\n",
    "\n",
    "        result = cursor.fetchone()  # Fetch one result: e.g., (7,)\n",
    "\n",
    "        # If a matching open check-in exists\n",
    "        if result:\n",
    "            log_id = result[0]  # Extract the log ID from the tuple\n",
    "\n",
    "            # Update that row by setting the checkout time\n",
    "            cursor.execute(\"\"\"\n",
    "                UPDATE attendance_log\n",
    "                SET checkout = ?\n",
    "                WHERE log_id = ?\n",
    "            \"\"\", (checkout_time, log_id))\n",
    "\n",
    "            conn.commit()  # Save the change to the database\n",
    "\n",
    "            print(f\"✅ Checkout recorded at {checkout_time} for Employee ID {emp_id}\")\n",
    "        \n",
    "        else:\n",
    "            # No open check-in found for this employee\n",
    "            print(\"⚠️ No active check-in found. Please check in first.\")\n",
    "\n",
    "    except ValueError:\n",
    "        # If the user enters a non-integer (like text instead of a number)\n",
    "        print(\"❌ Invalid input. Please enter a valid numeric Employee ID.\")\n",
    "    \n",
    "    except Exception as e:\n",
    "        # Any other unexpected error\n",
    "        print(f\"❌ Error: {e}\")\n",
    "\n",
    "add_employee()\n",
    "\n",
    "mark_checkin()\n",
    "\n",
    "mark_checkout()\n",
    "\n",
    "view_attendance_table()"
   ]
  },
  {
   "cell_type": "code",
   "execution_count": 27,
   "id": "0402c50c-4e8b-4826-a0c7-f80fb7764204",
   "metadata": {},
   "outputs": [
    {
     "name": "stdout",
     "output_type": "stream",
     "text": [
      "attendance log with employee info:\n"
     ]
    },
    {
     "data": {
      "text/html": [
       "<div>\n",
       "<style scoped>\n",
       "    .dataframe tbody tr th:only-of-type {\n",
       "        vertical-align: middle;\n",
       "    }\n",
       "\n",
       "    .dataframe tbody tr th {\n",
       "        vertical-align: top;\n",
       "    }\n",
       "\n",
       "    .dataframe thead th {\n",
       "        text-align: right;\n",
       "    }\n",
       "</style>\n",
       "<table border=\"1\" class=\"dataframe\">\n",
       "  <thead>\n",
       "    <tr style=\"text-align: right;\">\n",
       "      <th></th>\n",
       "      <th>log_id</th>\n",
       "      <th>emp_id</th>\n",
       "      <th>name</th>\n",
       "      <th>department</th>\n",
       "      <th>checkin</th>\n",
       "      <th>checkout</th>\n",
       "    </tr>\n",
       "  </thead>\n",
       "  <tbody>\n",
       "    <tr>\n",
       "      <th>0</th>\n",
       "      <td>9</td>\n",
       "      <td>2</td>\n",
       "      <td>sindhu</td>\n",
       "      <td>Banking</td>\n",
       "      <td>2025-07-13 08:00:26.969730</td>\n",
       "      <td>2025-07-13 08:00:28.332348</td>\n",
       "    </tr>\n",
       "    <tr>\n",
       "      <th>1</th>\n",
       "      <td>8</td>\n",
       "      <td>2</td>\n",
       "      <td>sindhu</td>\n",
       "      <td>Banking</td>\n",
       "      <td>2025-07-13 07:36:08.955743</td>\n",
       "      <td>2025-07-13 07:36:10.945528</td>\n",
       "    </tr>\n",
       "    <tr>\n",
       "      <th>2</th>\n",
       "      <td>7</td>\n",
       "      <td>1</td>\n",
       "      <td>sang</td>\n",
       "      <td>HR</td>\n",
       "      <td>2025-07-13 07:33:48.938051</td>\n",
       "      <td>2025-07-13 07:33:53.388631</td>\n",
       "    </tr>\n",
       "    <tr>\n",
       "      <th>3</th>\n",
       "      <td>6</td>\n",
       "      <td>4</td>\n",
       "      <td>vijaya</td>\n",
       "      <td>homemaker</td>\n",
       "      <td>2025-07-13 07:33:05.157430</td>\n",
       "      <td>2025-07-13 07:33:09.086117</td>\n",
       "    </tr>\n",
       "    <tr>\n",
       "      <th>4</th>\n",
       "      <td>5</td>\n",
       "      <td>3</td>\n",
       "      <td>sindhu</td>\n",
       "      <td>Banking</td>\n",
       "      <td>2025-07-13 07:15:23.849452</td>\n",
       "      <td>None</td>\n",
       "    </tr>\n",
       "    <tr>\n",
       "      <th>5</th>\n",
       "      <td>4</td>\n",
       "      <td>1</td>\n",
       "      <td>sang</td>\n",
       "      <td>HR</td>\n",
       "      <td>2025-07-13 06:50:21.883657</td>\n",
       "      <td>2025-07-13 06:50:39.993819</td>\n",
       "    </tr>\n",
       "    <tr>\n",
       "      <th>6</th>\n",
       "      <td>2</td>\n",
       "      <td>2</td>\n",
       "      <td>sindhu</td>\n",
       "      <td>Banking</td>\n",
       "      <td>2025-07-12 18:51:48.263251</td>\n",
       "      <td>2025-07-13 07:29:29.565601</td>\n",
       "    </tr>\n",
       "    <tr>\n",
       "      <th>7</th>\n",
       "      <td>1</td>\n",
       "      <td>2</td>\n",
       "      <td>sindhu</td>\n",
       "      <td>Banking</td>\n",
       "      <td>2025-07-12 18:51:05.230586</td>\n",
       "      <td>2025-07-13 07:29:49.588985</td>\n",
       "    </tr>\n",
       "    <tr>\n",
       "      <th>8</th>\n",
       "      <td>3</td>\n",
       "      <td>1</td>\n",
       "      <td>sang</td>\n",
       "      <td>HR</td>\n",
       "      <td>None</td>\n",
       "      <td>2025-07-12 19:14:34.244329</td>\n",
       "    </tr>\n",
       "  </tbody>\n",
       "</table>\n",
       "</div>"
      ],
      "text/plain": [
       "   log_id  emp_id    name department                     checkin  \\\n",
       "0       9       2  sindhu    Banking  2025-07-13 08:00:26.969730   \n",
       "1       8       2  sindhu    Banking  2025-07-13 07:36:08.955743   \n",
       "2       7       1    sang         HR  2025-07-13 07:33:48.938051   \n",
       "3       6       4  vijaya  homemaker  2025-07-13 07:33:05.157430   \n",
       "4       5       3  sindhu    Banking  2025-07-13 07:15:23.849452   \n",
       "5       4       1    sang         HR  2025-07-13 06:50:21.883657   \n",
       "6       2       2  sindhu    Banking  2025-07-12 18:51:48.263251   \n",
       "7       1       2  sindhu    Banking  2025-07-12 18:51:05.230586   \n",
       "8       3       1    sang         HR                        None   \n",
       "\n",
       "                     checkout  \n",
       "0  2025-07-13 08:00:28.332348  \n",
       "1  2025-07-13 07:36:10.945528  \n",
       "2  2025-07-13 07:33:53.388631  \n",
       "3  2025-07-13 07:33:09.086117  \n",
       "4                        None  \n",
       "5  2025-07-13 06:50:39.993819  \n",
       "6  2025-07-13 07:29:29.565601  \n",
       "7  2025-07-13 07:29:49.588985  \n",
       "8  2025-07-12 19:14:34.244329  "
      ]
     },
     "metadata": {},
     "output_type": "display_data"
    }
   ],
   "source": [
    "#to view attendance with employee info -- join with sql\n",
    "\n",
    "import pandas as pd\n",
    "\n",
    "def view_attendance_with_details():\n",
    "    query=\"\"\" select\n",
    "        al.log_id,\n",
    "        ei.emp_id,\n",
    "        ei.name,\n",
    "        ei.department,\n",
    "        al.checkin,\n",
    "        al.checkout\n",
    "        from attendance_log al join employee_info ei\n",
    "        on al.emp_id=ei.emp_id\n",
    "        order by al.checkin desc\"\"\"\n",
    "\n",
    "    df=pd.read_sql_query(query, conn)\n",
    "\n",
    "    if df.empty:\n",
    "        print(\"no attendance records found\")\n",
    "\n",
    "    else:\n",
    "        print(\"attendance log with employee info:\")\n",
    "\n",
    "        display(df)\n",
    "\n",
    "view_attendance_with_details()"
   ]
  },
  {
   "cell_type": "code",
   "execution_count": 28,
   "id": "a8e450d1-ed41-4217-a599-cb5c98b61122",
   "metadata": {},
   "outputs": [
    {
     "name": "stdout",
     "output_type": "stream",
     "text": [
      "duration column added\n"
     ]
    }
   ],
   "source": [
    "#add total working hours\n",
    "\n",
    "cursor.execute(\"\"\"alter table attendance_log add column duration real\"\"\")\n",
    "conn.commit()\n",
    "\n",
    "print(\"duration column added\")"
   ]
  },
  {
   "cell_type": "code",
   "execution_count": 30,
   "id": "34f53c9f-d689-430a-a25a-9daa7ef9a7ab",
   "metadata": {},
   "outputs": [
    {
     "name": "stdout",
     "output_type": "stream",
     "text": [
      "work duration updated for all completed logs\n",
      "work duration updated for all completed logs\n"
     ]
    },
    {
     "ename": "TypeError",
     "evalue": "fromisoformat: argument must be str",
     "output_type": "error",
     "traceback": [
      "\u001b[0;31m---------------------------------------------------------------------------\u001b[0m",
      "\u001b[0;31mTypeError\u001b[0m                                 Traceback (most recent call last)",
      "Cell \u001b[0;32mIn[30], line 21\u001b[0m\n\u001b[1;32m     18\u001b[0m         conn\u001b[38;5;241m.\u001b[39mcommit()\n\u001b[1;32m     19\u001b[0m         \u001b[38;5;28mprint\u001b[39m(\u001b[38;5;124m\"\u001b[39m\u001b[38;5;124mwork duration updated for all completed logs\u001b[39m\u001b[38;5;124m\"\u001b[39m)\n\u001b[0;32m---> 21\u001b[0m \u001b[43mupdate_work_duration\u001b[49m\u001b[43m(\u001b[49m\u001b[43m)\u001b[49m\n",
      "Cell \u001b[0;32mIn[30], line 13\u001b[0m, in \u001b[0;36mupdate_work_duration\u001b[0;34m()\u001b[0m\n\u001b[1;32m     10\u001b[0m rows\u001b[38;5;241m=\u001b[39mcursor\u001b[38;5;241m.\u001b[39mfetchall()\n\u001b[1;32m     12\u001b[0m \u001b[38;5;28;01mfor\u001b[39;00m log_id, checkin_str, checkout_str \u001b[38;5;129;01min\u001b[39;00m rows:\n\u001b[0;32m---> 13\u001b[0m     checkin\u001b[38;5;241m=\u001b[39m\u001b[43mdatetime\u001b[49m\u001b[38;5;241;43m.\u001b[39;49m\u001b[43mfromisoformat\u001b[49m\u001b[43m(\u001b[49m\u001b[43mcheckin_str\u001b[49m\u001b[43m)\u001b[49m\n\u001b[1;32m     14\u001b[0m     checkout\u001b[38;5;241m=\u001b[39mdatetime\u001b[38;5;241m.\u001b[39mfromisoformat(checkout_str)\n\u001b[1;32m     15\u001b[0m     duration\u001b[38;5;241m=\u001b[39m(checkout\u001b[38;5;241m-\u001b[39mcheckin)\u001b[38;5;241m.\u001b[39mtotal_seconds() \u001b[38;5;241m/\u001b[39m \u001b[38;5;241m3600\u001b[39m    \u001b[38;5;66;03m#in hours\u001b[39;00m\n",
      "\u001b[0;31mTypeError\u001b[0m: fromisoformat: argument must be str"
     ]
    }
   ],
   "source": [
    "#calculate and update duration on checkout\n",
    "\n",
    "from datetime import datetime\n",
    "\n",
    "def update_work_duration():    #fetch all records where checkout is done bt duration is still null\n",
    "\n",
    "    cursor.execute(\"\"\"select log_id, checkin, checkout from attendance_log\n",
    "                    where checkout is not null and duration is null\"\"\")\n",
    "    \n",
    "    rows=cursor.fetchall()\n",
    "\n",
    "    for log_id, checkin_str, checkout_str in rows:\n",
    "        checkin=datetime.fromisoformat(checkin_str)\n",
    "        checkout=datetime.fromisoformat(checkout_str)\n",
    "        duration=(checkout-checkin).total_seconds() / 3600    #in hours\n",
    "\n",
    "        cursor.execute(\"\"\"update attendance_log set duration=? where log_id=?\"\"\",(duration,log_id))  #update duration in DB\n",
    "        conn.commit()\n",
    "        print(\"work duration updated for all completed logs\")\n",
    "\n",
    "update_work_duration()\n",
    "              \n",
    "    #error bcoz it is not in string -- so chec below code\n"
   ]
  },
  {
   "cell_type": "code",
   "execution_count": 33,
   "id": "ab753220-f8a1-43f8-ab97-ebeefabb1a7c",
   "metadata": {},
   "outputs": [
    {
     "ename": "TypeError",
     "evalue": "unsupported operand type(s) for -: 'datetime.datetime' and 'NoneType'",
     "output_type": "error",
     "traceback": [
      "\u001b[0;31m---------------------------------------------------------------------------\u001b[0m",
      "\u001b[0;31mTypeError\u001b[0m                                 Traceback (most recent call last)",
      "Cell \u001b[0;32mIn[33], line 30\u001b[0m\n\u001b[1;32m     27\u001b[0m         conn\u001b[38;5;241m.\u001b[39mcommit()\n\u001b[1;32m     28\u001b[0m         \u001b[38;5;28mprint\u001b[39m(\u001b[38;5;124m\"\u001b[39m\u001b[38;5;124mwork duration updated for all completed logs\u001b[39m\u001b[38;5;124m\"\u001b[39m)\n\u001b[0;32m---> 30\u001b[0m \u001b[43mupdate_work_duration\u001b[49m\u001b[43m(\u001b[49m\u001b[43m)\u001b[49m\n",
      "Cell \u001b[0;32mIn[33], line 24\u001b[0m, in \u001b[0;36mupdate_work_duration\u001b[0;34m()\u001b[0m\n\u001b[1;32m     21\u001b[0m \u001b[38;5;28;01melse\u001b[39;00m:\n\u001b[1;32m     22\u001b[0m     checkout\u001b[38;5;241m=\u001b[39mcheckout_str\n\u001b[0;32m---> 24\u001b[0m duration\u001b[38;5;241m=\u001b[39m(\u001b[43mcheckout\u001b[49m\u001b[43m \u001b[49m\u001b[38;5;241;43m-\u001b[39;49m\u001b[43m \u001b[49m\u001b[43mcheckin\u001b[49m)\u001b[38;5;241m.\u001b[39mtotal_seconds() \u001b[38;5;241m/\u001b[39m \u001b[38;5;241m3600\u001b[39m    \u001b[38;5;66;03m#in hours\u001b[39;00m\n\u001b[1;32m     26\u001b[0m cursor\u001b[38;5;241m.\u001b[39mexecute(\u001b[38;5;124m\"\"\"\u001b[39m\u001b[38;5;124mupdate attendance_log set duration=? where log_id=?\u001b[39m\u001b[38;5;124m\"\"\"\u001b[39m,(duration,log_id))  \u001b[38;5;66;03m#update duration in DB\u001b[39;00m\n\u001b[1;32m     27\u001b[0m conn\u001b[38;5;241m.\u001b[39mcommit()\n",
      "\u001b[0;31mTypeError\u001b[0m: unsupported operand type(s) for -: 'datetime.datetime' and 'NoneType'"
     ]
    }
   ],
   "source": [
    "#calculate and update duration \n",
    "\n",
    "from datetime import datetime\n",
    "\n",
    "def update_work_duration():    #fetch all records where checkout is done bt duration is still null\n",
    "\n",
    "    cursor.execute(\"\"\"select log_id, checkin, checkout from attendance_log\n",
    "                    where checkout is not null and duration is null\"\"\")\n",
    "    \n",
    "    rows=cursor.fetchall()\n",
    "\n",
    "    for log_id, checkin_str, checkout_str in rows:  #if values are already datetime skip this - if string code as below\n",
    "\n",
    "        if isinstance(checkin_str,str):\n",
    "            checkin=datetime.fromisoformat(checkin_str)\n",
    "\n",
    "        else:\n",
    "            checkin=checkin_str\n",
    "\n",
    "        if isinstance(checkout_str,str):\n",
    "            checkout=datetime.fromisoformat(checkout_str)\n",
    "\n",
    "        else:\n",
    "            checkout=checkout_str\n",
    "            \n",
    "        duration=(checkout - checkin).total_seconds() / 3600    #in hours\n",
    "\n",
    "        cursor.execute(\"\"\"update attendance_log set duration=? where log_id=?\"\"\",(duration,log_id))  #update duration in DB\n",
    "        conn.commit()\n",
    "        print(\"work duration updated for all completed logs\")\n",
    "\n",
    "update_work_duration()\n",
    "\n",
    "#either checkout or checkin is none -- so check below validation code"
   ]
  },
  {
   "cell_type": "code",
   "execution_count": 35,
   "id": "87fdfd8b-19e7-45c2-8183-7dfd84b5bc8d",
   "metadata": {},
   "outputs": [
    {
     "name": "stdout",
     "output_type": "stream",
     "text": [
      "work duration updated for all completed logs\n"
     ]
    }
   ],
   "source": [
    "#calculate and update duration \n",
    "\n",
    "from datetime import datetime\n",
    "\n",
    "def update_work_duration():    #fetch all records where checkout is done bt duration is still null\n",
    "\n",
    "    cursor.execute(\"\"\"select log_id, checkin, checkout from attendance_log\n",
    "                    where checkout is not null and duration is null\"\"\")\n",
    "    \n",
    "    rows=cursor.fetchall()\n",
    "\n",
    "    for log_id, checkin_str, checkout_str in rows:  #if values are already datetime skip this - if string code as below\n",
    "\n",
    "        if checkin_str is None or checkout_str is None:\n",
    "            continue\n",
    "            \n",
    "        if isinstance(checkin_str,str):\n",
    "            checkin=datetime.fromisoformat(checkin_str)\n",
    "\n",
    "        else:\n",
    "            checkin=checkin_str\n",
    "\n",
    "        if isinstance(checkout_str,str):\n",
    "            checkout=datetime.fromisoformat(checkout_str)\n",
    "\n",
    "        else:\n",
    "            checkout=checkout_str\n",
    "            \n",
    "        duration=(checkout - checkin).total_seconds() / 3600    #in hours\n",
    "\n",
    "        cursor.execute(\"\"\"update attendance_log set duration=? where log_id=?\"\"\",(duration,log_id))  #update duration in DB\n",
    "        conn.commit()\n",
    "    print(\"work duration updated for all completed logs\")\n",
    "\n",
    "update_work_duration()"
   ]
  },
  {
   "cell_type": "code",
   "execution_count": 38,
   "id": "f3ba5218-050d-4089-8b48-b3923d42ae99",
   "metadata": {},
   "outputs": [
    {
     "name": "stdout",
     "output_type": "stream",
     "text": [
      "employees currently present:\n"
     ]
    },
    {
     "data": {
      "text/html": [
       "<div>\n",
       "<style scoped>\n",
       "    .dataframe tbody tr th:only-of-type {\n",
       "        vertical-align: middle;\n",
       "    }\n",
       "\n",
       "    .dataframe tbody tr th {\n",
       "        vertical-align: top;\n",
       "    }\n",
       "\n",
       "    .dataframe thead th {\n",
       "        text-align: right;\n",
       "    }\n",
       "</style>\n",
       "<table border=\"1\" class=\"dataframe\">\n",
       "  <thead>\n",
       "    <tr style=\"text-align: right;\">\n",
       "      <th></th>\n",
       "      <th>emp_id</th>\n",
       "      <th>name</th>\n",
       "      <th>department</th>\n",
       "      <th>checkin</th>\n",
       "      <th>checkout</th>\n",
       "    </tr>\n",
       "  </thead>\n",
       "  <tbody>\n",
       "    <tr>\n",
       "      <th>0</th>\n",
       "      <td>3</td>\n",
       "      <td>sindhu</td>\n",
       "      <td>Banking</td>\n",
       "      <td>2025-07-13 07:15:23.849452</td>\n",
       "      <td>None</td>\n",
       "    </tr>\n",
       "  </tbody>\n",
       "</table>\n",
       "</div>"
      ],
      "text/plain": [
       "   emp_id    name department                     checkin checkout\n",
       "0       3  sindhu    Banking  2025-07-13 07:15:23.849452     None"
      ]
     },
     "metadata": {},
     "output_type": "display_data"
    }
   ],
   "source": [
    "\n",
    "#list currently working employees\n",
    "\n",
    "def currently_working():\n",
    "    query=\"\"\"select\n",
    "        ei.emp_id,\n",
    "        ei.name,\n",
    "        ei.department,\n",
    "        al.checkin,\n",
    "        al.checkout \n",
    "        from attendance_log al join employee_info ei\n",
    "        on al.emp_id = ei.emp_id\n",
    "        where al.checkout is null\"\"\"\n",
    "\n",
    "    df=pd.read_sql_query(query,conn)\n",
    "\n",
    "    if df.empty:\n",
    "        print(\"no employees are currently working\")\n",
    "\n",
    "    else:\n",
    "        print(\"employees currently present:\")\n",
    "\n",
    "        display(df)\n",
    "\n",
    "currently_working()"
   ]
  },
  {
   "cell_type": "code",
   "execution_count": 42,
   "id": "9ce545e4-e9b9-42b6-afea-6b87107be98f",
   "metadata": {},
   "outputs": [
    {
     "name": "stdin",
     "output_type": "stream",
     "text": [
      "enter the employee id for checkin time: 1\n"
     ]
    },
    {
     "name": "stdout",
     "output_type": "stream",
     "text": [
      "employee id 1 has already checkd in at 2025-07-13 09:46:25.335929 and not checked out yet\n"
     ]
    }
   ],
   "source": [
    "#to prevent double checkin-- few lines of code should be written inside checkin function\n",
    "\n",
    "def mark_checkin():\n",
    "    emp_id=int(input(\"enter the employee id for checkin time:\"))\n",
    "    checkin_time=datetime.now()\n",
    "\n",
    "#prevent double checkin -- should be before inserting new checkin\n",
    "\n",
    "    cursor.execute(\"\"\"select * from attendance_log where emp_id=? and checkout is null\n",
    "                    order by checkin desc limit 1\"\"\", (emp_id,))\n",
    "\n",
    "    result=cursor.fetchone()\n",
    "\n",
    "    if result:\n",
    "        print(f\"employee id {emp_id} has already checked in at {result[2]} and not checked out yet\")\n",
    "        return    #exit function if already checked in\n",
    "\n",
    "    #proceed to insert checkin\n",
    "\n",
    "    cursor.execute(\"\"\"insert into attendance_log(emp_id, checkin) values(?,?)\"\"\", (emp_id, checkin_time))\n",
    "    conn.commit()\n",
    "\n",
    "    print(f\"checkin recorded as {checkin_time} for emp_Id {emp_id}\")\n",
    "\n",
    "mark_checkin()\n"
   ]
  },
  {
   "cell_type": "code",
   "execution_count": null,
   "id": "7194d640-dfd0-4c12-b339-ceb586c3f3f7",
   "metadata": {},
   "outputs": [],
   "source": []
  }
 ],
 "metadata": {
  "kernelspec": {
   "display_name": "anaconda-2024.02-py310",
   "language": "python",
   "name": "conda-env-anaconda-2024.02-py310-py"
  },
  "language_info": {
   "codemirror_mode": {
    "name": "ipython",
    "version": 3
   },
   "file_extension": ".py",
   "mimetype": "text/x-python",
   "name": "python",
   "nbconvert_exporter": "python",
   "pygments_lexer": "ipython3",
   "version": "3.10.14"
  }
 },
 "nbformat": 4,
 "nbformat_minor": 5
}
